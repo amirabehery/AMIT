{
  "nbformat": 4,
  "nbformat_minor": 0,
  "metadata": {
    "colab": {
      "provenance": [],
      "mount_file_id": "11tBT_zx6EoJ7xNvP8y3fH7QKUn0j53tK",
      "authorship_tag": "ABX9TyOrfLQ17CcE9GJ6PIDfFxvq",
      "include_colab_link": true
    },
    "kernelspec": {
      "name": "python3",
      "display_name": "Python 3"
    },
    "language_info": {
      "name": "python"
    },
    "accelerator": "GPU",
    "gpuClass": "standard"
  },
  "cells": [
    {
      "cell_type": "markdown",
      "metadata": {
        "id": "view-in-github",
        "colab_type": "text"
      },
      "source": [
        "<a href=\"https://colab.research.google.com/github/amirabehery/AMIT/blob/main/Cifar10_CNN.ipynb\" target=\"_parent\"><img src=\"https://colab.research.google.com/assets/colab-badge.svg\" alt=\"Open In Colab\"/></a>"
      ]
    },
    {
      "cell_type": "code",
      "execution_count": 1,
      "metadata": {
        "id": "uk9JJ-BPmuXS"
      },
      "outputs": [],
      "source": [
        "import keras\n",
        "import matplotlib.pyplot as plt\n",
        "import numpy as np\n",
        "import pandas as pd\n",
        "import tensorflow as tf\n",
        "from keras.layers import Dense, Dropout, Flatten, Conv2D, MaxPooling2D, BatchNormalization\n",
        "from keras.models import Sequential\n",
        "from sklearn.model_selection import train_test_split\n",
        "from keras.datasets import cifar10\n",
        "from keras.preprocessing.image import ImageDataGenerator\n",
        "from sklearn.metrics import accuracy_score\n",
        "from keras.utils import to_categorical"
      ]
    },
    {
      "cell_type": "markdown",
      "source": [
        "# Importing Data & Splitting Data\n",
        "\n",
        "\n"
      ],
      "metadata": {
        "id": "mpCPHtyQw1TN"
      }
    },
    {
      "cell_type": "code",
      "source": [
        "# importing data\n",
        "(x_train, y_train), (x_test, y_test) = cifar10.load_data()"
      ],
      "metadata": {
        "colab": {
          "base_uri": "https://localhost:8080/"
        },
        "id": "cXO0qcynv7zU",
        "outputId": "fbcefd68-c449-4951-c194-0273e0dff002"
      },
      "execution_count": 2,
      "outputs": [
        {
          "output_type": "stream",
          "name": "stdout",
          "text": [
            "Downloading data from https://www.cs.toronto.edu/~kriz/cifar-10-python.tar.gz\n",
            "170498071/170498071 [==============================] - 2s 0us/step\n"
          ]
        }
      ]
    },
    {
      "cell_type": "code",
      "source": [
        "x_train, x_valid, y_train, y_valid = train_test_split(x_train, y_train, test_size=0.3)"
      ],
      "metadata": {
        "id": "LqMNcTTyv7wD"
      },
      "execution_count": 3,
      "outputs": []
    },
    {
      "cell_type": "code",
      "source": [
        "x_train.shape, x_valid.shape, y_train.shape, y_valid.shape, x_test.shape, y_test.shape"
      ],
      "metadata": {
        "colab": {
          "base_uri": "https://localhost:8080/"
        },
        "id": "_K0sMo1nv7tW",
        "outputId": "2de8f9fd-c43b-40ea-8210-fbe3d89ad81d"
      },
      "execution_count": 4,
      "outputs": [
        {
          "output_type": "execute_result",
          "data": {
            "text/plain": [
              "((35000, 32, 32, 3),\n",
              " (15000, 32, 32, 3),\n",
              " (35000, 1),\n",
              " (15000, 1),\n",
              " (10000, 32, 32, 3),\n",
              " (10000, 1))"
            ]
          },
          "metadata": {},
          "execution_count": 4
        }
      ]
    },
    {
      "cell_type": "markdown",
      "source": [
        "# Image Augmentation"
      ],
      "metadata": {
        "id": "eZDnHy-Xyi88"
      }
    },
    {
      "cell_type": "code",
      "source": [
        "train_generator = ImageDataGenerator(rotation_range=2, horizontal_flip=True, zoom_range=0.1)\n",
        "val_generator = ImageDataGenerator(rotation_range=2, horizontal_flip=True, zoom_range=0.1)\n",
        "test_generator = ImageDataGenerator(rotation_range=2, horizontal_flip=True, zoom_range=0.1)\n",
        "\n",
        "train_generator.fit(x_train)\n",
        "val_generator.fit(x_valid)\n",
        "test_generator.fit(x_test)\n",
        "\n",
        "xtrain_generator = train_generator.flow(x_train, y_train)\n",
        "xval_generator = val_generator.flow(x_valid, y_valid)\n",
        "xtest_generator = test_generator.flow(x_test, y_test)"
      ],
      "metadata": {
        "id": "WvYTP-v6v7es"
      },
      "execution_count": 5,
      "outputs": []
    },
    {
      "cell_type": "markdown",
      "source": [
        "# Building Alex Model"
      ],
      "metadata": {
        "id": "Z8MgaKHuydJx"
      }
    },
    {
      "cell_type": "code",
      "source": [
        "alexNet = Sequential()\n",
        "\n",
        "# 1st layer\n",
        "alexNet.add(Conv2D(filters = 96, input_shape=(32,32,3), kernel_size=(11,11), strides=(4,4), padding='same', activation='relu'))\n",
        "alexNet.add(BatchNormalization())\n",
        "alexNet.add(MaxPooling2D(pool_size=(3,3), strides=(2,2), padding='same'))\n",
        "\n",
        "# 2nd layer\n",
        "alexNet.add(Conv2D(filters = 256, kernel_size=(5,5), strides=(1,1), padding='same', activation='relu'))\n",
        "alexNet.add(BatchNormalization())\n",
        "alexNet.add(MaxPooling2D(pool_size=(3,3), strides=(2,2), padding='same'))\n",
        "\n",
        "# 3th layer\n",
        "alexNet.add(Conv2D(filters = 384, kernel_size=(3,3), strides=(1,1), padding='same', activation='relu'))\n",
        "alexNet.add(BatchNormalization())\n",
        "\n",
        "# 4th layer\n",
        "alexNet.add(Conv2D(filters = 384, kernel_size=(3,3), strides=(1,1), padding='same', activation='relu'))\n",
        "alexNet.add(BatchNormalization())\n",
        "\n",
        "# 5th layer\n",
        "alexNet.add(Conv2D(filters = 256, kernel_size=(3,3), strides=(1,1), padding='same', activation='relu'))\n",
        "alexNet.add(BatchNormalization())\n",
        "alexNet.add(MaxPooling2D(pool_size=(3,3), strides=(2,2), padding='same'))\n",
        "\n",
        "# flatten\n",
        "alexNet.add(Flatten())\n",
        "\n",
        "# Start Fully Connected Layer =====> 6th layer\n",
        "alexNet.add(Dense(4096, activation='relu'))\n",
        "\n",
        "# 1st dropout \n",
        "alexNet.add(Dropout(rate=0.5))\n",
        "\n",
        "# 2nd Fully Connected Layer =====> 7th layer\n",
        "alexNet.add(Dense(4096, activation='relu'))\n",
        "\n",
        "# 2nd dropout \n",
        "alexNet.add(Dropout(rate=0.5))\n",
        "\n",
        "# 3nd Fully Connected Layer =====> 8th layer\n",
        "alexNet.add(Dense(4096, activation='relu'))\n",
        "\n",
        "# output layer =====> 8th layer\n",
        "alexNet.add(Dense(10, activation='softmax'))"
      ],
      "metadata": {
        "id": "rmTXrdzenLfl"
      },
      "execution_count": 6,
      "outputs": []
    },
    {
      "cell_type": "code",
      "source": [
        "alexNet.compile(optimizer='adam', loss='sparse_categorical_crossentropy', metrics=['accuracy'])\n",
        "alexNet.summary()"
      ],
      "metadata": {
        "colab": {
          "base_uri": "https://localhost:8080/"
        },
        "id": "YN1AThiosWI9",
        "outputId": "38caf94d-d858-4540-c386-4e49db71bf0c"
      },
      "execution_count": 7,
      "outputs": [
        {
          "output_type": "stream",
          "name": "stdout",
          "text": [
            "Model: \"sequential\"\n",
            "_________________________________________________________________\n",
            " Layer (type)                Output Shape              Param #   \n",
            "=================================================================\n",
            " conv2d (Conv2D)             (None, 8, 8, 96)          34944     \n",
            "                                                                 \n",
            " batch_normalization (BatchN  (None, 8, 8, 96)         384       \n",
            " ormalization)                                                   \n",
            "                                                                 \n",
            " max_pooling2d (MaxPooling2D  (None, 4, 4, 96)         0         \n",
            " )                                                               \n",
            "                                                                 \n",
            " conv2d_1 (Conv2D)           (None, 4, 4, 256)         614656    \n",
            "                                                                 \n",
            " batch_normalization_1 (Batc  (None, 4, 4, 256)        1024      \n",
            " hNormalization)                                                 \n",
            "                                                                 \n",
            " max_pooling2d_1 (MaxPooling  (None, 2, 2, 256)        0         \n",
            " 2D)                                                             \n",
            "                                                                 \n",
            " conv2d_2 (Conv2D)           (None, 2, 2, 384)         885120    \n",
            "                                                                 \n",
            " batch_normalization_2 (Batc  (None, 2, 2, 384)        1536      \n",
            " hNormalization)                                                 \n",
            "                                                                 \n",
            " conv2d_3 (Conv2D)           (None, 2, 2, 384)         1327488   \n",
            "                                                                 \n",
            " batch_normalization_3 (Batc  (None, 2, 2, 384)        1536      \n",
            " hNormalization)                                                 \n",
            "                                                                 \n",
            " conv2d_4 (Conv2D)           (None, 2, 2, 256)         884992    \n",
            "                                                                 \n",
            " batch_normalization_4 (Batc  (None, 2, 2, 256)        1024      \n",
            " hNormalization)                                                 \n",
            "                                                                 \n",
            " max_pooling2d_2 (MaxPooling  (None, 1, 1, 256)        0         \n",
            " 2D)                                                             \n",
            "                                                                 \n",
            " flatten (Flatten)           (None, 256)               0         \n",
            "                                                                 \n",
            " dense (Dense)               (None, 4096)              1052672   \n",
            "                                                                 \n",
            " dropout (Dropout)           (None, 4096)              0         \n",
            "                                                                 \n",
            " dense_1 (Dense)             (None, 4096)              16781312  \n",
            "                                                                 \n",
            " dropout_1 (Dropout)         (None, 4096)              0         \n",
            "                                                                 \n",
            " dense_2 (Dense)             (None, 4096)              16781312  \n",
            "                                                                 \n",
            " dense_3 (Dense)             (None, 10)                40970     \n",
            "                                                                 \n",
            "=================================================================\n",
            "Total params: 38,408,970\n",
            "Trainable params: 38,406,218\n",
            "Non-trainable params: 2,752\n",
            "_________________________________________________________________\n"
          ]
        }
      ]
    },
    {
      "cell_type": "code",
      "source": [
        "alex_history = alexNet.fit(xtrain_generator, epochs=10, validation_data=xval_generator, verbose=1)"
      ],
      "metadata": {
        "colab": {
          "base_uri": "https://localhost:8080/"
        },
        "id": "_KaFFluy_ftv",
        "outputId": "5b9207e4-a3ae-4166-83ad-03cfe8163f28"
      },
      "execution_count": 8,
      "outputs": [
        {
          "output_type": "stream",
          "name": "stdout",
          "text": [
            "Epoch 1/10\n",
            "1094/1094 [==============================] - 60s 42ms/step - loss: 1.9299 - accuracy: 0.1012 - val_loss: 1.8215 - val_accuracy: 0.2142\n",
            "Epoch 2/10\n",
            "1094/1094 [==============================] - 37s 34ms/step - loss: 1.6834 - accuracy: 0.1041 - val_loss: 1.6730 - val_accuracy: 0.0963\n",
            "Epoch 3/10\n",
            "1094/1094 [==============================] - 38s 34ms/step - loss: 1.5776 - accuracy: 0.1107 - val_loss: 1.6071 - val_accuracy: 0.0505\n",
            "Epoch 4/10\n",
            "1094/1094 [==============================] - 37s 34ms/step - loss: 1.4943 - accuracy: 0.1118 - val_loss: 1.6407 - val_accuracy: 0.1096\n",
            "Epoch 5/10\n",
            "1094/1094 [==============================] - 38s 35ms/step - loss: 1.4420 - accuracy: 0.1071 - val_loss: 1.5691 - val_accuracy: 0.1359\n",
            "Epoch 6/10\n",
            "1094/1094 [==============================] - 36s 33ms/step - loss: 1.3713 - accuracy: 0.1070 - val_loss: 1.3505 - val_accuracy: 0.0785\n",
            "Epoch 7/10\n",
            "1094/1094 [==============================] - 38s 35ms/step - loss: 1.3175 - accuracy: 0.1061 - val_loss: 1.3709 - val_accuracy: 0.1053\n",
            "Epoch 8/10\n",
            "1094/1094 [==============================] - 37s 34ms/step - loss: 1.2630 - accuracy: 0.1063 - val_loss: 1.4463 - val_accuracy: 0.1028\n",
            "Epoch 9/10\n",
            "1094/1094 [==============================] - 38s 35ms/step - loss: 1.2122 - accuracy: 0.1046 - val_loss: 1.5625 - val_accuracy: 0.0733\n",
            "Epoch 10/10\n",
            "1094/1094 [==============================] - 36s 33ms/step - loss: 1.1774 - accuracy: 0.1055 - val_loss: 1.3332 - val_accuracy: 0.0613\n"
          ]
        }
      ]
    },
    {
      "cell_type": "code",
      "source": [
        "evaluation = alexNet.evaluate(x_test, y_test)\n",
        "print(f'Test Accuracy: {evaluation[1]}')"
      ],
      "metadata": {
        "id": "Q6aYD_kC_mlf",
        "colab": {
          "base_uri": "https://localhost:8080/"
        },
        "outputId": "b81f5124-a090-489c-b1c7-280ea7615216"
      },
      "execution_count": 9,
      "outputs": [
        {
          "output_type": "stream",
          "name": "stdout",
          "text": [
            "313/313 [==============================] - 3s 8ms/step - loss: 1.3001 - accuracy: 0.0706\n",
            "Test Accuracy: 0.0706000030040741\n"
          ]
        }
      ]
    },
    {
      "cell_type": "code",
      "source": [
        "pd.DataFrame(alex_history.history).plot()"
      ],
      "metadata": {
        "id": "Afhh1yFx_uUn",
        "colab": {
          "base_uri": "https://localhost:8080/",
          "height": 284
        },
        "outputId": "0fc38dd4-0ed3-473c-86ca-e9bd1dcba766"
      },
      "execution_count": 10,
      "outputs": [
        {
          "output_type": "execute_result",
          "data": {
            "text/plain": [
              "<AxesSubplot:>"
            ]
          },
          "metadata": {},
          "execution_count": 10
        },
        {
          "output_type": "display_data",
          "data": {
            "text/plain": [
              "<Figure size 432x288 with 1 Axes>"
            ],
            "image/png": "[encoded data removed]"
          },
          "metadata": {
            "needs_background": "light"
          }
        }
      ]
    },
    {
      "cell_type": "code",
      "source": [
        "y_pred = alexNet.predict(x_test)"
      ],
      "metadata": {
        "id": "go6vFhpf_zZX",
        "colab": {
          "base_uri": "https://localhost:8080/"
        },
        "outputId": "64fbefa1-f98f-48c6-d4f1-3cad43d5d5e8"
      },
      "execution_count": 11,
      "outputs": [
        {
          "output_type": "stream",
          "name": "stdout",
          "text": [
            "313/313 [==============================] - 1s 4ms/step\n"
          ]
        }
      ]
    },
    {
      "cell_type": "code",
      "source": [
        "def transform_predictions(list1):\n",
        "  result = []\n",
        "  for i in range(len(list1)):\n",
        "    max_ = np.argmax(list1[i])\n",
        "    result.append(max_)\n",
        "  return result"
      ],
      "metadata": {
        "id": "BR1YqL-v_1dL"
      },
      "execution_count": 12,
      "outputs": []
    },
    {
      "cell_type": "code",
      "source": [
        "y_pred_transformed = transform_predictions(y_pred)"
      ],
      "metadata": {
        "id": "JQ8kIctg_6AL"
      },
      "execution_count": 13,
      "outputs": []
    },
    {
      "cell_type": "code",
      "source": [
        "accuracy_score(y_pred_transformed, y_test)"
      ],
      "metadata": {
        "id": "hHk_m45F_7K5",
        "colab": {
          "base_uri": "https://localhost:8080/"
        },
        "outputId": "39065d3d-21ea-4b99-bdfa-2d01ee00b282"
      },
      "execution_count": 14,
      "outputs": [
        {
          "output_type": "execute_result",
          "data": {
            "text/plain": [
              "0.5544"
            ]
          },
          "metadata": {},
          "execution_count": 14
        }
      ]
    },
    {
      "cell_type": "markdown",
      "source": [
        "AlexNet Accuracy was very bad\n",
        "# New 5 Model CNN\n",
        "New Model Generators to increase accuracy"
      ],
      "metadata": {
        "id": "ZLJKGS4V_mPb"
      }
    },
    {
      "cell_type": "code",
      "source": [
        "# Normalizing\n",
        "x_train=x_train/255\n",
        "x_valid=x_valid/255\n",
        "x_test=x_test/255\n",
        "\n",
        "#One hot encoding\n",
        "y_train=to_categorical(y_train,10)\n",
        "y_valid=to_categorical(y_valid,10)\n",
        "y_test=to_categorical(y_test,10)"
      ],
      "metadata": {
        "id": "LcCXB5gV7CmR"
      },
      "execution_count": 15,
      "outputs": []
    },
    {
      "cell_type": "code",
      "source": [
        "model1=Sequential()\n",
        "model1.add(Conv2D(filters=32,kernel_size=(4,4),input_shape=(32,32,3),activation='relu'))\n",
        "model1.add(MaxPooling2D(pool_size=(2,2)))\n",
        "model1.add(Conv2D(filters=32,kernel_size=(4,4),input_shape=(32,32,3),activation='relu'))\n",
        "model1.add(MaxPooling2D(pool_size=(2,2)))\n",
        "model1.add(Flatten())\n",
        "model1.add(Dense(256,activation='relu'))\n",
        "model1.add(Dense(10,activation='softmax'))\n",
        "model1.compile(loss='categorical_crossentropy',optimizer='adam',metrics=['accuracy'])"
      ],
      "metadata": {
        "id": "QmS96u2j8tX_"
      },
      "execution_count": 16,
      "outputs": []
    },
    {
      "cell_type": "code",
      "source": [
        "model1.summary()"
      ],
      "metadata": {
        "id": "ELhg6D0VtvRe",
        "colab": {
          "base_uri": "https://localhost:8080/"
        },
        "outputId": "f1e384bc-4d0f-4f3f-afb4-8d185eaf5622"
      },
      "execution_count": 17,
      "outputs": [
        {
          "output_type": "stream",
          "name": "stdout",
          "text": [
            "Model: \"sequential_1\"\n",
            "_________________________________________________________________\n",
            " Layer (type)                Output Shape              Param #   \n",
            "=================================================================\n",
            " conv2d_5 (Conv2D)           (None, 29, 29, 32)        1568      \n",
            "                                                                 \n",
            " max_pooling2d_3 (MaxPooling  (None, 14, 14, 32)       0         \n",
            " 2D)                                                             \n",
            "                                                                 \n",
            " conv2d_6 (Conv2D)           (None, 11, 11, 32)        16416     \n",
            "                                                                 \n",
            " max_pooling2d_4 (MaxPooling  (None, 5, 5, 32)         0         \n",
            " 2D)                                                             \n",
            "                                                                 \n",
            " flatten_1 (Flatten)         (None, 800)               0         \n",
            "                                                                 \n",
            " dense_4 (Dense)             (None, 256)               205056    \n",
            "                                                                 \n",
            " dense_5 (Dense)             (None, 10)                2570      \n",
            "                                                                 \n",
            "=================================================================\n",
            "Total params: 225,610\n",
            "Trainable params: 225,610\n",
            "Non-trainable params: 0\n",
            "_________________________________________________________________\n"
          ]
        }
      ]
    },
    {
      "cell_type": "code",
      "source": [
        "history1=model1.fit(x_train,y_train,epochs=20,validation_data=(x_test,y_test))"
      ],
      "metadata": {
        "id": "Ti9YZExx82fg",
        "colab": {
          "base_uri": "https://localhost:8080/"
        },
        "outputId": "c1cb2acc-aa8a-4fe3-e51c-473b1b305351"
      },
      "execution_count": 18,
      "outputs": [
        {
          "output_type": "stream",
          "name": "stdout",
          "text": [
            "Epoch 1/20\n",
            "1094/1094 [==============================] - 9s 7ms/step - loss: 1.5665 - accuracy: 0.4285 - val_loss: 1.3322 - val_accuracy: 0.5215\n",
            "Epoch 2/20\n",
            "1094/1094 [==============================] - 6s 6ms/step - loss: 1.2520 - accuracy: 0.5549 - val_loss: 1.2435 - val_accuracy: 0.5630\n",
            "Epoch 3/20\n",
            "1094/1094 [==============================] - 7s 6ms/step - loss: 1.1160 - accuracy: 0.6068 - val_loss: 1.1538 - val_accuracy: 0.5912\n",
            "Epoch 4/20\n",
            "1094/1094 [==============================] - 6s 5ms/step - loss: 1.0161 - accuracy: 0.6413 - val_loss: 1.0854 - val_accuracy: 0.6208\n",
            "Epoch 5/20\n",
            "1094/1094 [==============================] - 7s 6ms/step - loss: 0.9187 - accuracy: 0.6792 - val_loss: 1.0550 - val_accuracy: 0.6347\n",
            "Epoch 6/20\n",
            "1094/1094 [==============================] - 6s 6ms/step - loss: 0.8503 - accuracy: 0.7036 - val_loss: 1.0344 - val_accuracy: 0.6448\n",
            "Epoch 7/20\n",
            "1094/1094 [==============================] - 11s 10ms/step - loss: 0.7712 - accuracy: 0.7297 - val_loss: 1.0523 - val_accuracy: 0.6372\n",
            "Epoch 8/20\n",
            "1094/1094 [==============================] - 10s 9ms/step - loss: 0.7002 - accuracy: 0.7556 - val_loss: 1.0537 - val_accuracy: 0.6433\n",
            "Epoch 9/20\n",
            "1094/1094 [==============================] - 6s 6ms/step - loss: 0.6328 - accuracy: 0.7791 - val_loss: 1.0575 - val_accuracy: 0.6541\n",
            "Epoch 10/20\n",
            "1094/1094 [==============================] - 7s 6ms/step - loss: 0.5731 - accuracy: 0.7992 - val_loss: 1.1295 - val_accuracy: 0.6433\n",
            "Epoch 11/20\n",
            "1094/1094 [==============================] - 6s 6ms/step - loss: 0.5045 - accuracy: 0.8219 - val_loss: 1.2261 - val_accuracy: 0.6349\n",
            "Epoch 12/20\n",
            "1094/1094 [==============================] - 6s 6ms/step - loss: 0.4475 - accuracy: 0.8449 - val_loss: 1.2213 - val_accuracy: 0.6447\n",
            "Epoch 13/20\n",
            "1094/1094 [==============================] - 6s 5ms/step - loss: 0.3929 - accuracy: 0.8617 - val_loss: 1.3175 - val_accuracy: 0.6424\n",
            "Epoch 14/20\n",
            "1094/1094 [==============================] - 6s 6ms/step - loss: 0.3488 - accuracy: 0.8772 - val_loss: 1.3946 - val_accuracy: 0.6433\n",
            "Epoch 15/20\n",
            "1094/1094 [==============================] - 8s 7ms/step - loss: 0.3015 - accuracy: 0.8959 - val_loss: 1.5363 - val_accuracy: 0.6285\n",
            "Epoch 16/20\n",
            "1094/1094 [==============================] - 6s 6ms/step - loss: 0.2654 - accuracy: 0.9065 - val_loss: 1.6211 - val_accuracy: 0.6406\n",
            "Epoch 17/20\n",
            "1094/1094 [==============================] - 7s 6ms/step - loss: 0.2352 - accuracy: 0.9174 - val_loss: 1.7159 - val_accuracy: 0.6353\n",
            "Epoch 18/20\n",
            "1094/1094 [==============================] - 6s 5ms/step - loss: 0.2061 - accuracy: 0.9274 - val_loss: 1.8063 - val_accuracy: 0.6321\n",
            "Epoch 19/20\n",
            "1094/1094 [==============================] - 7s 6ms/step - loss: 0.1863 - accuracy: 0.9350 - val_loss: 2.0124 - val_accuracy: 0.6268\n",
            "Epoch 20/20\n",
            "1094/1094 [==============================] - 6s 6ms/step - loss: 0.1803 - accuracy: 0.9350 - val_loss: 2.1026 - val_accuracy: 0.6255\n"
          ]
        }
      ]
    },
    {
      "cell_type": "code",
      "source": [
        "evaluation = model1.evaluate(x_test, y_test)\n",
        "print(f'Test Accuracy: {evaluation[1]}')"
      ],
      "metadata": {
        "id": "81eQ94699E9v",
        "colab": {
          "base_uri": "https://localhost:8080/"
        },
        "outputId": "ba3fc6eb-df1e-460a-a768-3259e27af376"
      },
      "execution_count": 19,
      "outputs": [
        {
          "output_type": "stream",
          "name": "stdout",
          "text": [
            "313/313 [==============================] - 1s 4ms/step - loss: 2.1026 - accuracy: 0.6255\n",
            "Test Accuracy: 0.6255000233650208\n"
          ]
        }
      ]
    },
    {
      "cell_type": "code",
      "source": [
        "pd.DataFrame(history1.history).plot()"
      ],
      "metadata": {
        "id": "d5jWXaVg9LzQ",
        "colab": {
          "base_uri": "https://localhost:8080/",
          "height": 282
        },
        "outputId": "47044d25-db27-4c41-f889-12c707854292"
      },
      "execution_count": 20,
      "outputs": [
        {
          "output_type": "execute_result",
          "data": {
            "text/plain": [
              "<AxesSubplot:>"
            ]
          },
          "metadata": {},
          "execution_count": 20
        },
        {
          "output_type": "display_data",
          "data": {
            "text/plain": [
              "<Figure size 432x288 with 1 Axes>"
            ],
            "image/png": "[encoded data removed]"
          },
          "metadata": {
            "needs_background": "light"
          }
        }
      ]
    },
    {
      "cell_type": "code",
      "source": [
        "model2=Sequential()\n",
        "model2.add(Conv2D(filters=32,kernel_size=(4,4),input_shape=(32,32,3),activation='relu'))\n",
        "model2.add(MaxPooling2D(pool_size=(2,2)))\n",
        "model2.add(Dropout(0.25))\n",
        "model2.add(Conv2D(filters=32,kernel_size=(4,4),input_shape=(32,32,3),activation='relu'))\n",
        "model2.add(MaxPooling2D(pool_size=(2,2)))\n",
        "model2.add(Dropout(0.25))\n",
        "model2.add(Flatten())\n",
        "model2.add(Dense(256,activation='relu'))\n",
        "model2.add(Dense(10,activation='softmax'))\n",
        "model2.compile(loss='categorical_crossentropy',optimizer='adam',metrics=['accuracy'])\n",
        "history2=model2.fit(x_train,y_train,epochs=20,validation_data=(x_valid,y_valid))"
      ],
      "metadata": {
        "id": "62abuab79UHM",
        "colab": {
          "base_uri": "https://localhost:8080/"
        },
        "outputId": "2a283b27-3f95-412e-fa65-03279a7fce2a"
      },
      "execution_count": 21,
      "outputs": [
        {
          "output_type": "stream",
          "name": "stdout",
          "text": [
            "Epoch 1/20\n",
            "1094/1094 [==============================] - 9s 7ms/step - loss: 1.6307 - accuracy: 0.4042 - val_loss: 1.3884 - val_accuracy: 0.5105\n",
            "Epoch 2/20\n",
            "1094/1094 [==============================] - 8s 7ms/step - loss: 1.3354 - accuracy: 0.5229 - val_loss: 1.2333 - val_accuracy: 0.5678\n",
            "Epoch 3/20\n",
            "1094/1094 [==============================] - 6s 6ms/step - loss: 1.2045 - accuracy: 0.5737 - val_loss: 1.1264 - val_accuracy: 0.6019\n",
            "Epoch 4/20\n",
            "1094/1094 [==============================] - 7s 7ms/step - loss: 1.1202 - accuracy: 0.6047 - val_loss: 1.0739 - val_accuracy: 0.6173\n",
            "Epoch 5/20\n",
            "1094/1094 [==============================] - 6s 6ms/step - loss: 1.0439 - accuracy: 0.6323 - val_loss: 1.0106 - val_accuracy: 0.6457\n",
            "Epoch 6/20\n",
            "1094/1094 [==============================] - 8s 7ms/step - loss: 0.9754 - accuracy: 0.6572 - val_loss: 0.9843 - val_accuracy: 0.6563\n",
            "Epoch 7/20\n",
            "1094/1094 [==============================] - 6s 6ms/step - loss: 0.9145 - accuracy: 0.6809 - val_loss: 0.9547 - val_accuracy: 0.6711\n",
            "Epoch 8/20\n",
            "1094/1094 [==============================] - 7s 7ms/step - loss: 0.8750 - accuracy: 0.6935 - val_loss: 0.9941 - val_accuracy: 0.6537\n",
            "Epoch 9/20\n",
            "1094/1094 [==============================] - 6s 6ms/step - loss: 0.8256 - accuracy: 0.7107 - val_loss: 0.9305 - val_accuracy: 0.6750\n",
            "Epoch 10/20\n",
            "1094/1094 [==============================] - 7s 7ms/step - loss: 0.7929 - accuracy: 0.7222 - val_loss: 0.9754 - val_accuracy: 0.6692\n",
            "Epoch 11/20\n",
            "1094/1094 [==============================] - 6s 6ms/step - loss: 0.7688 - accuracy: 0.7282 - val_loss: 0.9301 - val_accuracy: 0.6787\n",
            "Epoch 12/20\n",
            "1094/1094 [==============================] - 7s 7ms/step - loss: 0.7347 - accuracy: 0.7395 - val_loss: 0.9255 - val_accuracy: 0.6842\n",
            "Epoch 13/20\n",
            "1094/1094 [==============================] - 8s 7ms/step - loss: 0.7069 - accuracy: 0.7511 - val_loss: 0.9386 - val_accuracy: 0.6820\n",
            "Epoch 14/20\n",
            "1094/1094 [==============================] - 7s 6ms/step - loss: 0.6775 - accuracy: 0.7597 - val_loss: 0.9284 - val_accuracy: 0.6895\n",
            "Epoch 15/20\n",
            "1094/1094 [==============================] - 7s 7ms/step - loss: 0.6500 - accuracy: 0.7705 - val_loss: 1.0403 - val_accuracy: 0.6591\n",
            "Epoch 16/20\n",
            "1094/1094 [==============================] - 7s 6ms/step - loss: 0.6359 - accuracy: 0.7736 - val_loss: 0.9269 - val_accuracy: 0.6939\n",
            "Epoch 17/20\n",
            "1094/1094 [==============================] - 7s 7ms/step - loss: 0.6178 - accuracy: 0.7823 - val_loss: 0.9617 - val_accuracy: 0.6845\n",
            "Epoch 18/20\n",
            "1094/1094 [==============================] - 6s 6ms/step - loss: 0.6001 - accuracy: 0.7875 - val_loss: 1.0039 - val_accuracy: 0.6752\n",
            "Epoch 19/20\n",
            "1094/1094 [==============================] - 9s 8ms/step - loss: 0.5786 - accuracy: 0.7944 - val_loss: 0.9800 - val_accuracy: 0.6846\n",
            "Epoch 20/20\n",
            "1094/1094 [==============================] - 6s 6ms/step - loss: 0.5704 - accuracy: 0.8007 - val_loss: 0.9767 - val_accuracy: 0.6935\n"
          ]
        }
      ]
    },
    {
      "cell_type": "code",
      "source": [
        "evaluation = model2.evaluate(x_test, y_test)\n",
        "print(f'Test Accuracy: {evaluation[1]}')"
      ],
      "metadata": {
        "id": "94kd7OJx9etx",
        "colab": {
          "base_uri": "https://localhost:8080/"
        },
        "outputId": "629f17f9-bdc0-4cab-c146-e861423a03ae"
      },
      "execution_count": 22,
      "outputs": [
        {
          "output_type": "stream",
          "name": "stdout",
          "text": [
            "313/313 [==============================] - 1s 3ms/step - loss: 0.9796 - accuracy: 0.6884\n",
            "Test Accuracy: 0.6883999705314636\n"
          ]
        }
      ]
    },
    {
      "cell_type": "code",
      "source": [
        "pd.DataFrame(history2.history).plot()"
      ],
      "metadata": {
        "id": "LnrT36iM9uMg",
        "colab": {
          "base_uri": "https://localhost:8080/",
          "height": 282
        },
        "outputId": "24490c9f-c1de-4137-a0b5-4beb56fd7b7c"
      },
      "execution_count": 23,
      "outputs": [
        {
          "output_type": "execute_result",
          "data": {
            "text/plain": [
              "<AxesSubplot:>"
            ]
          },
          "metadata": {},
          "execution_count": 23
        },
        {
          "output_type": "display_data",
          "data": {
            "text/plain": [
              "<Figure size 432x288 with 1 Axes>"
            ],
            "image/png": "[encoded data removed]"
          },
          "metadata": {
            "needs_background": "light"
          }
        }
      ]
    },
    {
      "cell_type": "code",
      "source": [
        "model3 = Sequential()\n",
        "model3.add(Conv2D(filters = 64, kernel_size = (3,3), activation = 'relu', input_shape = (32,32,3)))\n",
        "model3.add(Conv2D(filters = 64, kernel_size = (3,3), activation = 'relu'))\n",
        "model3.add(MaxPooling2D(2,2))\n",
        "model3.add(Dropout(0.4))\n",
        "\n",
        "\n",
        "model3.add(Conv2D(filters = 128, kernel_size = (3,3), activation = 'relu'))\n",
        "model3.add(Conv2D(filters = 128, kernel_size = (3,3), activation = 'relu'))\n",
        "model3.add(MaxPooling2D(2,2))\n",
        "model3.add(Dropout(0.4))\n",
        "\n",
        "model3.add(Flatten())\n",
        "\n",
        "model3.add(Dense(units = 1024, activation = 'relu'))\n",
        "\n",
        "model3.add(Dense(units = 1024, activation = 'relu'))\n",
        "\n",
        "model3.add(Dense(units = 10, activation = 'softmax'))\n",
        "model3.compile(loss = 'categorical_crossentropy', optimizer = 'adam', metrics = ['accuracy'])\n",
        "history3=model3.fit(x_train,y_train,epochs=50,validation_data=(x_test,y_test))"
      ],
      "metadata": {
        "id": "mBmCuwL-94hk",
        "colab": {
          "base_uri": "https://localhost:8080/"
        },
        "outputId": "96a211f4-dd0e-45f7-8d93-2b9e2d2ceb51"
      },
      "execution_count": 24,
      "outputs": [
        {
          "output_type": "stream",
          "name": "stdout",
          "text": [
            "Epoch 1/50\n",
            "1094/1094 [==============================] - 16s 11ms/step - loss: 1.6093 - accuracy: 0.4052 - val_loss: 1.2576 - val_accuracy: 0.5444\n",
            "Epoch 2/50\n",
            "1094/1094 [==============================] - 10s 9ms/step - loss: 1.2362 - accuracy: 0.5552 - val_loss: 1.1138 - val_accuracy: 0.6012\n",
            "Epoch 3/50\n",
            "1094/1094 [==============================] - 11s 10ms/step - loss: 1.0759 - accuracy: 0.6201 - val_loss: 0.9996 - val_accuracy: 0.6453\n",
            "Epoch 4/50\n",
            "1094/1094 [==============================] - 11s 10ms/step - loss: 0.9532 - accuracy: 0.6615 - val_loss: 0.8966 - val_accuracy: 0.6812\n",
            "Epoch 5/50\n",
            "1094/1094 [==============================] - 10s 9ms/step - loss: 0.8690 - accuracy: 0.6931 - val_loss: 0.9427 - val_accuracy: 0.6667\n",
            "Epoch 6/50\n",
            "1094/1094 [==============================] - 12s 11ms/step - loss: 0.7929 - accuracy: 0.7237 - val_loss: 0.8081 - val_accuracy: 0.7209\n",
            "Epoch 7/50\n",
            "1094/1094 [==============================] - 10s 10ms/step - loss: 0.7238 - accuracy: 0.7416 - val_loss: 0.8208 - val_accuracy: 0.7215\n",
            "Epoch 8/50\n",
            "1094/1094 [==============================] - 10s 9ms/step - loss: 0.6696 - accuracy: 0.7620 - val_loss: 0.8024 - val_accuracy: 0.7260\n",
            "Epoch 9/50\n",
            "1094/1094 [==============================] - 10s 10ms/step - loss: 0.6283 - accuracy: 0.7763 - val_loss: 0.8012 - val_accuracy: 0.7345\n",
            "Epoch 10/50\n",
            "1094/1094 [==============================] - 11s 10ms/step - loss: 0.5826 - accuracy: 0.7911 - val_loss: 0.8098 - val_accuracy: 0.7287\n",
            "Epoch 11/50\n",
            "1094/1094 [==============================] - 12s 11ms/step - loss: 0.5364 - accuracy: 0.8101 - val_loss: 0.7657 - val_accuracy: 0.7422\n",
            "Epoch 12/50\n",
            "1094/1094 [==============================] - 12s 11ms/step - loss: 0.5036 - accuracy: 0.8212 - val_loss: 0.8171 - val_accuracy: 0.7438\n",
            "Epoch 13/50\n",
            "1094/1094 [==============================] - 10s 9ms/step - loss: 0.4743 - accuracy: 0.8319 - val_loss: 0.8168 - val_accuracy: 0.7428\n",
            "Epoch 14/50\n",
            "1094/1094 [==============================] - 11s 10ms/step - loss: 0.4565 - accuracy: 0.8356 - val_loss: 0.8267 - val_accuracy: 0.7494\n",
            "Epoch 15/50\n",
            "1094/1094 [==============================] - 11s 10ms/step - loss: 0.4193 - accuracy: 0.8515 - val_loss: 0.8377 - val_accuracy: 0.7440\n",
            "Epoch 16/50\n",
            "1094/1094 [==============================] - 11s 10ms/step - loss: 0.4006 - accuracy: 0.8583 - val_loss: 0.8849 - val_accuracy: 0.7427\n",
            "Epoch 17/50\n",
            "1094/1094 [==============================] - 12s 11ms/step - loss: 0.3748 - accuracy: 0.8684 - val_loss: 0.8814 - val_accuracy: 0.7427\n",
            "Epoch 18/50\n",
            "1094/1094 [==============================] - 12s 11ms/step - loss: 0.3679 - accuracy: 0.8695 - val_loss: 0.9314 - val_accuracy: 0.7416\n",
            "Epoch 19/50\n",
            "1094/1094 [==============================] - 10s 9ms/step - loss: 0.3439 - accuracy: 0.8795 - val_loss: 0.9351 - val_accuracy: 0.7460\n",
            "Epoch 20/50\n",
            "1094/1094 [==============================] - 11s 10ms/step - loss: 0.3168 - accuracy: 0.8887 - val_loss: 0.9624 - val_accuracy: 0.7501\n",
            "Epoch 21/50\n",
            "1094/1094 [==============================] - 11s 10ms/step - loss: 0.3234 - accuracy: 0.8890 - val_loss: 0.9588 - val_accuracy: 0.7492\n",
            "Epoch 22/50\n",
            "1094/1094 [==============================] - 11s 10ms/step - loss: 0.3061 - accuracy: 0.8955 - val_loss: 0.9813 - val_accuracy: 0.7454\n",
            "Epoch 23/50\n",
            "1094/1094 [==============================] - 10s 10ms/step - loss: 0.3065 - accuracy: 0.8958 - val_loss: 0.9939 - val_accuracy: 0.7407\n",
            "Epoch 24/50\n",
            "1094/1094 [==============================] - 11s 10ms/step - loss: 0.2897 - accuracy: 0.8995 - val_loss: 1.0275 - val_accuracy: 0.7478\n",
            "Epoch 25/50\n",
            "1094/1094 [==============================] - 11s 10ms/step - loss: 0.2819 - accuracy: 0.9033 - val_loss: 1.0634 - val_accuracy: 0.7358\n",
            "Epoch 26/50\n",
            "1094/1094 [==============================] - 11s 10ms/step - loss: 0.2742 - accuracy: 0.9059 - val_loss: 1.0825 - val_accuracy: 0.7412\n",
            "Epoch 27/50\n",
            "1094/1094 [==============================] - 11s 10ms/step - loss: 0.2647 - accuracy: 0.9103 - val_loss: 1.0748 - val_accuracy: 0.7424\n",
            "Epoch 28/50\n",
            "1094/1094 [==============================] - 12s 11ms/step - loss: 0.2648 - accuracy: 0.9097 - val_loss: 1.0726 - val_accuracy: 0.7435\n",
            "Epoch 29/50\n",
            "1094/1094 [==============================] - 10s 10ms/step - loss: 0.2561 - accuracy: 0.9154 - val_loss: 1.0890 - val_accuracy: 0.7325\n",
            "Epoch 30/50\n",
            "1094/1094 [==============================] - 11s 10ms/step - loss: 0.2582 - accuracy: 0.9127 - val_loss: 1.0904 - val_accuracy: 0.7350\n",
            "Epoch 31/50\n",
            "1094/1094 [==============================] - 11s 10ms/step - loss: 0.2558 - accuracy: 0.9157 - val_loss: 1.1050 - val_accuracy: 0.7386\n",
            "Epoch 32/50\n",
            "1094/1094 [==============================] - 11s 10ms/step - loss: 0.2450 - accuracy: 0.9177 - val_loss: 1.1641 - val_accuracy: 0.7442\n",
            "Epoch 33/50\n",
            "1094/1094 [==============================] - 12s 11ms/step - loss: 0.2397 - accuracy: 0.9211 - val_loss: 1.1793 - val_accuracy: 0.7310\n",
            "Epoch 34/50\n",
            "1094/1094 [==============================] - 11s 10ms/step - loss: 0.2290 - accuracy: 0.9252 - val_loss: 1.1136 - val_accuracy: 0.7434\n",
            "Epoch 35/50\n",
            "1094/1094 [==============================] - 10s 10ms/step - loss: 0.2263 - accuracy: 0.9267 - val_loss: 1.0636 - val_accuracy: 0.7449\n",
            "Epoch 36/50\n",
            "1094/1094 [==============================] - 11s 10ms/step - loss: 0.2317 - accuracy: 0.9235 - val_loss: 1.1724 - val_accuracy: 0.7360\n",
            "Epoch 37/50\n",
            "1094/1094 [==============================] - 11s 10ms/step - loss: 0.2159 - accuracy: 0.9286 - val_loss: 1.1084 - val_accuracy: 0.7425\n",
            "Epoch 38/50\n",
            "1094/1094 [==============================] - 12s 11ms/step - loss: 0.2268 - accuracy: 0.9275 - val_loss: 1.2301 - val_accuracy: 0.7289\n",
            "Epoch 39/50\n",
            "1094/1094 [==============================] - 11s 10ms/step - loss: 0.2324 - accuracy: 0.9247 - val_loss: 1.1135 - val_accuracy: 0.7434\n",
            "Epoch 40/50\n",
            "1094/1094 [==============================] - 11s 10ms/step - loss: 0.2083 - accuracy: 0.9316 - val_loss: 1.1937 - val_accuracy: 0.7409\n",
            "Epoch 41/50\n",
            "1094/1094 [==============================] - 11s 10ms/step - loss: 0.2153 - accuracy: 0.9303 - val_loss: 1.1475 - val_accuracy: 0.7461\n",
            "Epoch 42/50\n",
            "1094/1094 [==============================] - 11s 10ms/step - loss: 0.2214 - accuracy: 0.9288 - val_loss: 1.3075 - val_accuracy: 0.7353\n",
            "Epoch 43/50\n",
            "1094/1094 [==============================] - 11s 10ms/step - loss: 0.2094 - accuracy: 0.9314 - val_loss: 1.2344 - val_accuracy: 0.7426\n",
            "Epoch 44/50\n",
            "1094/1094 [==============================] - 12s 11ms/step - loss: 0.2137 - accuracy: 0.9313 - val_loss: 1.1701 - val_accuracy: 0.7379\n",
            "Epoch 45/50\n",
            "1094/1094 [==============================] - 10s 9ms/step - loss: 0.2137 - accuracy: 0.9299 - val_loss: 1.2650 - val_accuracy: 0.7420\n",
            "Epoch 46/50\n",
            "1094/1094 [==============================] - 11s 10ms/step - loss: 0.2010 - accuracy: 0.9369 - val_loss: 1.2667 - val_accuracy: 0.7383\n",
            "Epoch 47/50\n",
            "1094/1094 [==============================] - 10s 10ms/step - loss: 0.1993 - accuracy: 0.9375 - val_loss: 1.2040 - val_accuracy: 0.7437\n",
            "Epoch 48/50\n",
            "1094/1094 [==============================] - 11s 10ms/step - loss: 0.1927 - accuracy: 0.9396 - val_loss: 1.2630 - val_accuracy: 0.7498\n",
            "Epoch 49/50\n",
            "1094/1094 [==============================] - 12s 11ms/step - loss: 0.2063 - accuracy: 0.9351 - val_loss: 1.2625 - val_accuracy: 0.7333\n",
            "Epoch 50/50\n",
            "1094/1094 [==============================] - 12s 11ms/step - loss: 0.1938 - accuracy: 0.9381 - val_loss: 1.2435 - val_accuracy: 0.7453\n"
          ]
        }
      ]
    },
    {
      "cell_type": "code",
      "source": [
        "pd.DataFrame(history3.history).plot()"
      ],
      "metadata": {
        "id": "JsKUx9zIvTB0",
        "colab": {
          "base_uri": "https://localhost:8080/",
          "height": 282
        },
        "outputId": "40ecd01d-91c0-477e-e492-41a3c25bb1b5"
      },
      "execution_count": 25,
      "outputs": [
        {
          "output_type": "execute_result",
          "data": {
            "text/plain": [
              "<AxesSubplot:>"
            ]
          },
          "metadata": {},
          "execution_count": 25
        },
        {
          "output_type": "display_data",
          "data": {
            "text/plain": [
              "<Figure size 432x288 with 1 Axes>"
            ],
            "image/png": "[encoded data removed]"
          },
          "metadata": {
            "needs_background": "light"
          }
        }
      ]
    },
    {
      "cell_type": "code",
      "source": [
        "model4 = Sequential()\n",
        "model4.add(Conv2D(32, (3, 3), activation='relu', kernel_initializer='he_uniform', padding='same', input_shape=(32, 32, 3)))\n",
        "model4.add(BatchNormalization())\n",
        "model4.add(Conv2D(32, (3, 3), activation='relu', kernel_initializer='he_uniform', padding='same'))\n",
        "model4.add(BatchNormalization())\n",
        "model4.add(MaxPooling2D((2, 2)))\n",
        "model4.add(Dropout(0.2))\n",
        "model4.add(Conv2D(64, (3, 3), activation='relu', kernel_initializer='he_uniform', padding='same'))\n",
        "model4.add(BatchNormalization())\n",
        "model4.add(Conv2D(64, (3, 3), activation='relu', kernel_initializer='he_uniform', padding='same'))\n",
        "model4.add(BatchNormalization())\n",
        "model4.add(MaxPooling2D((2, 2)))\n",
        "model4.add(Dropout(0.3))\n",
        "model4.add(Conv2D(128, (3, 3), activation='relu', kernel_initializer='he_uniform', padding='same'))\n",
        "model4.add(BatchNormalization())\n",
        "model4.add(Conv2D(128, (3, 3), activation='relu', kernel_initializer='he_uniform', padding='same'))\n",
        "model4.add(BatchNormalization())\n",
        "model4.add(MaxPooling2D((2, 2)))\n",
        "model4.add(Dropout(0.4))\n",
        "model4.add(Flatten())\n",
        "model4.add(Dense(128, activation='relu', kernel_initializer='he_uniform'))\n",
        "model4.add(BatchNormalization())\n",
        "model4.add(Dropout(0.5))\n",
        "model4.add(Dense(10, activation='softmax'))\n",
        "model4.compile(optimizer='adam', loss='categorical_crossentropy', metrics=['accuracy'])\n",
        "generator = ImageDataGenerator(width_shift_range=0.1, height_shift_range=0.1, horizontal_flip=True,rotation_range=20)\n",
        "it_train = generator.flow(x_train,y_train)\n",
        "steps = int(x_train.shape[0] / 64)\n",
        "history4 = model4.fit_generator(it_train,epochs=50,steps_per_epoch=steps,validation_data=(x_test,y_test))"
      ],
      "metadata": {
        "id": "v7Fqk3rA-O4s",
        "colab": {
          "base_uri": "https://localhost:8080/"
        },
        "outputId": "d3caf9dd-4eef-4799-a2fb-0ae710832aa5"
      },
      "execution_count": 26,
      "outputs": [
        {
          "output_type": "stream",
          "name": "stdout",
          "text": [
            "Epoch 1/50\n"
          ]
        },
        {
          "output_type": "stream",
          "name": "stderr",
          "text": [
            "<ipython-input-26-d8940115472c>:29: UserWarning: `Model.fit_generator` is deprecated and will be removed in a future version. Please use `Model.fit`, which supports generators.\n",
            "  history4 = model4.fit_generator(it_train,epochs=50,steps_per_epoch=steps,validation_data=(x_test,y_test))\n"
          ]
        },
        {
          "output_type": "stream",
          "name": "stdout",
          "text": [
            "546/546 [==============================] - 23s 31ms/step - loss: 2.0811 - accuracy: 0.3038 - val_loss: 1.5171 - val_accuracy: 0.4370\n",
            "Epoch 2/50\n",
            "546/546 [==============================] - 16s 29ms/step - loss: 1.5965 - accuracy: 0.4220 - val_loss: 1.3551 - val_accuracy: 0.5110\n",
            "Epoch 3/50\n",
            "546/546 [==============================] - 15s 28ms/step - loss: 1.4481 - accuracy: 0.4842 - val_loss: 1.2597 - val_accuracy: 0.5429\n",
            "Epoch 4/50\n",
            "546/546 [==============================] - 16s 29ms/step - loss: 1.3453 - accuracy: 0.5193 - val_loss: 1.4914 - val_accuracy: 0.5026\n",
            "Epoch 5/50\n",
            "546/546 [==============================] - 16s 29ms/step - loss: 1.2776 - accuracy: 0.5448 - val_loss: 1.1673 - val_accuracy: 0.5971\n",
            "Epoch 6/50\n",
            "546/546 [==============================] - 16s 30ms/step - loss: 1.1859 - accuracy: 0.5786 - val_loss: 1.1308 - val_accuracy: 0.6031\n",
            "Epoch 7/50\n",
            "546/546 [==============================] - 16s 29ms/step - loss: 1.1288 - accuracy: 0.6027 - val_loss: 1.0874 - val_accuracy: 0.6224\n",
            "Epoch 8/50\n",
            "546/546 [==============================] - 16s 30ms/step - loss: 1.0974 - accuracy: 0.6134 - val_loss: 1.0040 - val_accuracy: 0.6435\n",
            "Epoch 9/50\n",
            "546/546 [==============================] - 17s 31ms/step - loss: 1.0430 - accuracy: 0.6342 - val_loss: 1.0225 - val_accuracy: 0.6776\n",
            "Epoch 10/50\n",
            "546/546 [==============================] - 16s 30ms/step - loss: 1.0111 - accuracy: 0.6493 - val_loss: 1.0317 - val_accuracy: 0.6460\n",
            "Epoch 11/50\n",
            "546/546 [==============================] - 16s 29ms/step - loss: 0.9776 - accuracy: 0.6599 - val_loss: 0.8651 - val_accuracy: 0.7014\n",
            "Epoch 12/50\n",
            "546/546 [==============================] - 16s 29ms/step - loss: 0.9521 - accuracy: 0.6689 - val_loss: 0.8104 - val_accuracy: 0.7178\n",
            "Epoch 13/50\n",
            "546/546 [==============================] - 16s 29ms/step - loss: 0.9359 - accuracy: 0.6796 - val_loss: 0.9476 - val_accuracy: 0.6803\n",
            "Epoch 14/50\n",
            "546/546 [==============================] - 16s 28ms/step - loss: 0.8975 - accuracy: 0.6897 - val_loss: 0.8723 - val_accuracy: 0.7094\n",
            "Epoch 15/50\n",
            "546/546 [==============================] - 16s 29ms/step - loss: 0.8931 - accuracy: 0.6927 - val_loss: 0.8449 - val_accuracy: 0.7100\n",
            "Epoch 16/50\n",
            "546/546 [==============================] - 17s 31ms/step - loss: 0.8768 - accuracy: 0.6999 - val_loss: 0.7222 - val_accuracy: 0.7460\n",
            "Epoch 17/50\n",
            "546/546 [==============================] - 16s 29ms/step - loss: 0.8487 - accuracy: 0.7071 - val_loss: 0.7887 - val_accuracy: 0.7295\n",
            "Epoch 18/50\n",
            "546/546 [==============================] - 16s 29ms/step - loss: 0.8465 - accuracy: 0.7109 - val_loss: 0.7332 - val_accuracy: 0.7519\n",
            "Epoch 19/50\n",
            "546/546 [==============================] - 16s 29ms/step - loss: 0.8220 - accuracy: 0.7214 - val_loss: 0.7597 - val_accuracy: 0.7413\n",
            "Epoch 20/50\n",
            "546/546 [==============================] - 18s 32ms/step - loss: 0.8322 - accuracy: 0.7127 - val_loss: 0.7111 - val_accuracy: 0.7572\n",
            "Epoch 21/50\n",
            "546/546 [==============================] - 16s 29ms/step - loss: 0.7895 - accuracy: 0.7312 - val_loss: 0.7585 - val_accuracy: 0.7435\n",
            "Epoch 22/50\n",
            "546/546 [==============================] - 16s 30ms/step - loss: 0.7779 - accuracy: 0.7345 - val_loss: 0.7379 - val_accuracy: 0.7558\n",
            "Epoch 23/50\n",
            "546/546 [==============================] - 16s 29ms/step - loss: 0.7642 - accuracy: 0.7371 - val_loss: 0.7232 - val_accuracy: 0.7555\n",
            "Epoch 24/50\n",
            "546/546 [==============================] - 16s 29ms/step - loss: 0.7612 - accuracy: 0.7379 - val_loss: 0.7812 - val_accuracy: 0.7412\n",
            "Epoch 25/50\n",
            "546/546 [==============================] - 17s 32ms/step - loss: 0.7577 - accuracy: 0.7411 - val_loss: 0.6317 - val_accuracy: 0.7817\n",
            "Epoch 26/50\n",
            "546/546 [==============================] - 16s 28ms/step - loss: 0.7462 - accuracy: 0.7478 - val_loss: 0.6748 - val_accuracy: 0.7741\n",
            "Epoch 27/50\n",
            "546/546 [==============================] - 16s 28ms/step - loss: 0.7380 - accuracy: 0.7487 - val_loss: 0.6520 - val_accuracy: 0.7785\n",
            "Epoch 28/50\n",
            "546/546 [==============================] - 16s 29ms/step - loss: 0.7313 - accuracy: 0.7486 - val_loss: 0.6058 - val_accuracy: 0.7916\n",
            "Epoch 29/50\n",
            "546/546 [==============================] - 16s 30ms/step - loss: 0.7290 - accuracy: 0.7530 - val_loss: 0.7651 - val_accuracy: 0.7546\n",
            "Epoch 30/50\n",
            "546/546 [==============================] - 16s 29ms/step - loss: 0.7058 - accuracy: 0.7612 - val_loss: 0.5618 - val_accuracy: 0.8074\n",
            "Epoch 31/50\n",
            "546/546 [==============================] - 17s 32ms/step - loss: 0.6906 - accuracy: 0.7651 - val_loss: 0.6747 - val_accuracy: 0.7780\n",
            "Epoch 32/50\n",
            "546/546 [==============================] - 16s 29ms/step - loss: 0.6988 - accuracy: 0.7630 - val_loss: 0.6092 - val_accuracy: 0.7926\n",
            "Epoch 33/50\n",
            "546/546 [==============================] - 16s 29ms/step - loss: 0.6891 - accuracy: 0.7647 - val_loss: 0.5480 - val_accuracy: 0.8125\n",
            "Epoch 34/50\n",
            "546/546 [==============================] - 17s 32ms/step - loss: 0.6850 - accuracy: 0.7663 - val_loss: 0.6146 - val_accuracy: 0.7918\n",
            "Epoch 35/50\n",
            "546/546 [==============================] - 17s 32ms/step - loss: 0.6843 - accuracy: 0.7682 - val_loss: 0.7365 - val_accuracy: 0.7549\n",
            "Epoch 36/50\n",
            "546/546 [==============================] - 16s 28ms/step - loss: 0.6573 - accuracy: 0.7747 - val_loss: 0.5837 - val_accuracy: 0.8061\n",
            "Epoch 37/50\n",
            "546/546 [==============================] - 16s 29ms/step - loss: 0.6723 - accuracy: 0.7733 - val_loss: 0.5918 - val_accuracy: 0.8013\n",
            "Epoch 38/50\n",
            "546/546 [==============================] - 16s 28ms/step - loss: 0.6614 - accuracy: 0.7727 - val_loss: 0.6040 - val_accuracy: 0.7976\n",
            "Epoch 39/50\n",
            "546/546 [==============================] - 21s 39ms/step - loss: 0.6531 - accuracy: 0.7773 - val_loss: 0.6194 - val_accuracy: 0.7909\n",
            "Epoch 40/50\n",
            "546/546 [==============================] - 17s 30ms/step - loss: 0.6559 - accuracy: 0.7796 - val_loss: 0.5300 - val_accuracy: 0.8236\n",
            "Epoch 41/50\n",
            "546/546 [==============================] - 16s 29ms/step - loss: 0.6513 - accuracy: 0.7828 - val_loss: 0.6427 - val_accuracy: 0.7860\n",
            "Epoch 42/50\n",
            "546/546 [==============================] - 16s 29ms/step - loss: 0.6571 - accuracy: 0.7771 - val_loss: 0.6015 - val_accuracy: 0.7989\n",
            "Epoch 43/50\n",
            "546/546 [==============================] - 16s 29ms/step - loss: 0.6394 - accuracy: 0.7876 - val_loss: 0.5374 - val_accuracy: 0.8220\n",
            "Epoch 44/50\n",
            "546/546 [==============================] - 16s 29ms/step - loss: 0.6337 - accuracy: 0.7848 - val_loss: 0.7185 - val_accuracy: 0.7699\n",
            "Epoch 45/50\n",
            "546/546 [==============================] - 17s 31ms/step - loss: 0.6164 - accuracy: 0.7912 - val_loss: 0.5356 - val_accuracy: 0.8203\n",
            "Epoch 46/50\n",
            "546/546 [==============================] - 15s 28ms/step - loss: 0.6251 - accuracy: 0.7883 - val_loss: 0.5992 - val_accuracy: 0.8029\n",
            "Epoch 47/50\n",
            "546/546 [==============================] - 18s 33ms/step - loss: 0.6251 - accuracy: 0.7862 - val_loss: 0.6387 - val_accuracy: 0.7852\n",
            "Epoch 48/50\n",
            "546/546 [==============================] - 16s 28ms/step - loss: 0.6125 - accuracy: 0.7903 - val_loss: 0.6773 - val_accuracy: 0.7704\n",
            "Epoch 49/50\n",
            "546/546 [==============================] - 16s 30ms/step - loss: 0.6219 - accuracy: 0.7889 - val_loss: 0.6082 - val_accuracy: 0.7996\n",
            "Epoch 50/50\n",
            "546/546 [==============================] - 16s 29ms/step - loss: 0.6042 - accuracy: 0.7951 - val_loss: 0.6096 - val_accuracy: 0.7960\n"
          ]
        }
      ]
    },
    {
      "cell_type": "code",
      "source": [
        "pd.DataFrame(history4.history).plot()"
      ],
      "metadata": {
        "id": "Jzqs_LbR_E3y",
        "colab": {
          "base_uri": "https://localhost:8080/",
          "height": 282
        },
        "outputId": "b68ffc2b-fa33-4134-9d17-1d0dedc05850"
      },
      "execution_count": 27,
      "outputs": [
        {
          "output_type": "execute_result",
          "data": {
            "text/plain": [
              "<AxesSubplot:>"
            ]
          },
          "metadata": {},
          "execution_count": 27
        },
        {
          "output_type": "display_data",
          "data": {
            "text/plain": [
              "<Figure size 432x288 with 1 Axes>"
            ],
            "image/png": "[encoded data removed]"
          },
          "metadata": {
            "needs_background": "light"
          }
        }
      ]
    },
    {
      "cell_type": "code",
      "source": [
        "cifar_classes = ['airplane', 'automobile', 'bird', 'cat', 'deer', 'dog', 'frog', 'horse', 'ship', 'truck']"
      ],
      "metadata": {
        "id": "bSCGhfv4vTMT"
      },
      "execution_count": 28,
      "outputs": []
    },
    {
      "cell_type": "code",
      "source": [
        "np.argmax(y_test[0])"
      ],
      "metadata": {
        "colab": {
          "base_uri": "https://localhost:8080/"
        },
        "id": "7_sUg94aX2mL",
        "outputId": "f18b8f91-3901-4cc8-c5fb-4a3aee2ae491"
      },
      "execution_count": 32,
      "outputs": [
        {
          "output_type": "execute_result",
          "data": {
            "text/plain": [
              "3"
            ]
          },
          "metadata": {},
          "execution_count": 32
        }
      ]
    },
    {
      "cell_type": "code",
      "source": [
        "def checkModel(image_number, model,labels):\n",
        "  # display the image\n",
        "  plt.imshow(x_test[image_number])\n",
        "  \n",
        "  # load the image in an array\n",
        "  n = np.array(x_test[image_number])\n",
        "  \n",
        "  # reshape it\n",
        "  p = n.reshape(1, 32, 32, 3)\n",
        "  \n",
        "  # pass in the network for prediction and\n",
        "  # save the predicted label\n",
        "  predicted_label = labels[model.predict(p).argmax()]\n",
        "  \n",
        "  # load the original label\n",
        "  original_label = labels[np.argmax(y_test[image_number])]\n",
        "  \n",
        "  # display the result\n",
        "  print(f\"Original label is {original_label}\")\n",
        "  print(f\"predicted label is {predicted_label}\")"
      ],
      "metadata": {
        "id": "FR6WIE3JGmts"
      },
      "execution_count": 36,
      "outputs": []
    },
    {
      "cell_type": "code",
      "source": [
        "checkModel(0, model4,cifar_classes)"
      ],
      "metadata": {
        "id": "XaJpYVyPHGnf",
        "colab": {
          "base_uri": "https://localhost:8080/",
          "height": 318
        },
        "outputId": "6566d3e9-00bc-4b3a-b8d8-386f0023dfc6"
      },
      "execution_count": 37,
      "outputs": [
        {
          "output_type": "stream",
          "name": "stdout",
          "text": [
            "1/1 [==============================] - 0s 29ms/step\n",
            "Original label is cat\n",
            "predicted label is cat\n"
          ]
        },
        {
          "output_type": "display_data",
          "data": {
            "text/plain": [
              "<Figure size 432x288 with 1 Axes>"
            ],
            "image/png": "[encoded data removed]"
          },
          "metadata": {
            "needs_background": "light"
          }
        }
      ]
    },
    {
      "cell_type": "code",
      "source": [
        "checkModel(100, model4,cifar_classes)"
      ],
      "metadata": {
        "id": "7PdG4rLGJOQG",
        "colab": {
          "base_uri": "https://localhost:8080/",
          "height": 318
        },
        "outputId": "7e8e15bf-274b-49ee-8119-6a660982f248"
      },
      "execution_count": 38,
      "outputs": [
        {
          "output_type": "stream",
          "name": "stdout",
          "text": [
            "1/1 [==============================] - 0s 28ms/step\n",
            "Original label is deer\n",
            "predicted label is deer\n"
          ]
        },
        {
          "output_type": "display_data",
          "data": {
            "text/plain": [
              "<Figure size 432x288 with 1 Axes>"
            ],
            "image/png": "[encoded data removed]"
          },
          "metadata": {
            "needs_background": "light"
          }
        }
      ]
    },
    {
      "cell_type": "code",
      "source": [
        "checkModel(55, model4,cifar_classes)"
      ],
      "metadata": {
        "colab": {
          "base_uri": "https://localhost:8080/",
          "height": 318
        },
        "id": "fQh9ZBMWYSjZ",
        "outputId": "2e9bd9a6-54a5-43c9-a717-942b770825b7"
      },
      "execution_count": 39,
      "outputs": [
        {
          "output_type": "stream",
          "name": "stdout",
          "text": [
            "1/1 [==============================] - 0s 30ms/step\n",
            "Original label is ship\n",
            "predicted label is ship\n"
          ]
        },
        {
          "output_type": "display_data",
          "data": {
            "text/plain": [
              "<Figure size 432x288 with 1 Axes>"
            ],
            "image/png": "[encoded data removed]"
          },
          "metadata": {
            "needs_background": "light"
          }
        }
      ]
    },
    {
      "cell_type": "code",
      "source": [
        "checkModel(87, model4,cifar_classes)"
      ],
      "metadata": {
        "colab": {
          "base_uri": "https://localhost:8080/",
          "height": 318
        },
        "id": "FMXlv2yHYSfj",
        "outputId": "b2141267-c50e-4f76-9d9b-cfa632c92b6f"
      },
      "execution_count": 40,
      "outputs": [
        {
          "output_type": "stream",
          "name": "stdout",
          "text": [
            "1/1 [==============================] - 0s 26ms/step\n",
            "Original label is horse\n",
            "predicted label is horse\n"
          ]
        },
        {
          "output_type": "display_data",
          "data": {
            "text/plain": [
              "<Figure size 432x288 with 1 Axes>"
            ],
            "image/png": "[encoded data removed]"
          },
          "metadata": {
            "needs_background": "light"
          }
        }
      ]
    },
    {
      "cell_type": "code",
      "source": [
        "checkModel(200, model4,cifar_classes)"
      ],
      "metadata": {
        "colab": {
          "base_uri": "https://localhost:8080/",
          "height": 318
        },
        "id": "38Ji8PHLYScJ",
        "outputId": "e1e390e2-27c3-4eac-e05b-70f63eaca5c1"
      },
      "execution_count": 41,
      "outputs": [
        {
          "output_type": "stream",
          "name": "stdout",
          "text": [
            "1/1 [==============================] - 0s 78ms/step\n",
            "Original label is dog\n",
            "predicted label is dog\n"
          ]
        },
        {
          "output_type": "display_data",
          "data": {
            "text/plain": [
              "<Figure size 432x288 with 1 Axes>"
            ],
            "image/png": "[encoded data removed]"
          },
          "metadata": {
            "needs_background": "light"
          }
        }
      ]
    },
    {
      "cell_type": "code",
      "source": [],
      "metadata": {
        "id": "PBHFmzdSYX3W"
      },
      "execution_count": null,
      "outputs": []
    }
  ]
}