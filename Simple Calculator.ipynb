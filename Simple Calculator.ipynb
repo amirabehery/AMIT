{
 "cells": [
  {
   "cell_type": "code",
   "execution_count": 1,
   "id": "f1acf17a",
   "metadata": {},
   "outputs": [],
   "source": [
    "def selectOperation(a,b,symbol):\n",
    "    if a.isdigit() and b.isdigit():\n",
    "        a,b = int(a), int(b)\n",
    "        if symbol == '1':\n",
    "            print(f'{a} + {b} = {a + b}')\n",
    "        elif symbol == '2':\n",
    "            print(f'{a} - {b} = {a - b}')\n",
    "        elif symbol == '3':\n",
    "            print(f'{a} * {b} = {a * b}')\n",
    "        elif symbol == '4':\n",
    "            try:\n",
    "                print(f'{a} / {b} = {a / b}')\n",
    "            except ZeroDivisionError:\n",
    "                print(\"Can't divide by Zero! Try Again and change the value of the second number.\")\n",
    "        else:\n",
    "            print(\"Invalid Operation selected!\")\n",
    "    else:\n",
    "        print('Invalid Numbers entered!')\n",
    "\n",
    "def displayFunc(f):\n",
    "    print(\"1.Add\")\n",
    "    print(\"2.Subtract\")\n",
    "    print(\"3.Multiply\")\n",
    "    print(\"4.Divide\")\n",
    "    operation = input('Choose Operation by number(1/2/3/4): ')\n",
    "    number1 = input('Enter First Number: ')\n",
    "    number2 = input('Enter Second Number: ')\n",
    "    return f(number1,number2,operation)"
   ]
  },
  {
   "cell_type": "code",
   "execution_count": 2,
   "id": "7800afa2",
   "metadata": {
    "scrolled": true
   },
   "outputs": [
    {
     "name": "stdout",
     "output_type": "stream",
     "text": [
      "1.Add\n",
      "2.Subtract\n",
      "3.Multiply\n",
      "4.Divide\n",
      "Choose Operation by number(1/2/3/4): 1\n",
      "Enter First Number: 20\n",
      "Enter Second Number: 5\n",
      "20 + 5 = 25\n"
     ]
    }
   ],
   "source": [
    "## Try Adding\n",
    "displayFunc(selectOperation)"
   ]
  },
  {
   "cell_type": "code",
   "execution_count": 3,
   "id": "22ad50e2",
   "metadata": {},
   "outputs": [
    {
     "name": "stdout",
     "output_type": "stream",
     "text": [
      "1.Add\n",
      "2.Subtract\n",
      "3.Multiply\n",
      "4.Divide\n",
      "Choose Operation by number(1/2/3/4): 2\n",
      "Enter First Number: 5\n",
      "Enter Second Number: 10\n",
      "5 - 10 = -5\n"
     ]
    }
   ],
   "source": [
    "## Try Subtracting\n",
    "displayFunc(selectOperation)"
   ]
  },
  {
   "cell_type": "code",
   "execution_count": 4,
   "id": "45069b31",
   "metadata": {},
   "outputs": [
    {
     "name": "stdout",
     "output_type": "stream",
     "text": [
      "1.Add\n",
      "2.Subtract\n",
      "3.Multiply\n",
      "4.Divide\n",
      "Choose Operation by number(1/2/3/4): 3\n",
      "Enter First Number: 4\n",
      "Enter Second Number: 55\n",
      "4 * 55 = 220\n"
     ]
    }
   ],
   "source": [
    "## Try Multiplication\n",
    "displayFunc(selectOperation)"
   ]
  },
  {
   "cell_type": "code",
   "execution_count": 5,
   "id": "bfb04d9e",
   "metadata": {},
   "outputs": [
    {
     "name": "stdout",
     "output_type": "stream",
     "text": [
      "1.Add\n",
      "2.Subtract\n",
      "3.Multiply\n",
      "4.Divide\n",
      "Choose Operation by number(1/2/3/4): 4\n",
      "Enter First Number: 9\n",
      "Enter Second Number: 2\n",
      "9 / 2 = 4.5\n"
     ]
    }
   ],
   "source": [
    "## Try Division\n",
    "displayFunc(selectOperation)"
   ]
  },
  {
   "cell_type": "code",
   "execution_count": 6,
   "id": "ab5ff146",
   "metadata": {},
   "outputs": [
    {
     "name": "stdout",
     "output_type": "stream",
     "text": [
      "1.Add\n",
      "2.Subtract\n",
      "3.Multiply\n",
      "4.Divide\n",
      "Choose Operation by number(1/2/3/4): 4\n",
      "Enter First Number: 20\n",
      "Enter Second Number: 0\n",
      "Can't divide by Zero! Try Again and change the value of the second number.\n"
     ]
    }
   ],
   "source": [
    "## Try ZeroDivision\n",
    "displayFunc(selectOperation)"
   ]
  },
  {
   "cell_type": "code",
   "execution_count": 7,
   "id": "0e0e7138",
   "metadata": {},
   "outputs": [
    {
     "name": "stdout",
     "output_type": "stream",
     "text": [
      "1.Add\n",
      "2.Subtract\n",
      "3.Multiply\n",
      "4.Divide\n",
      "Choose Operation by number(1/2/3/4): 6\n",
      "Enter First Number: 55\n",
      "Enter Second Number: 1\n",
      "Invalid Operation selected!\n"
     ]
    }
   ],
   "source": [
    "## Try Invalid Operation\n",
    "displayFunc(selectOperation)"
   ]
  },
  {
   "cell_type": "code",
   "execution_count": 8,
   "id": "2d13dc35",
   "metadata": {},
   "outputs": [
    {
     "name": "stdout",
     "output_type": "stream",
     "text": [
      "1.Add\n",
      "2.Subtract\n",
      "3.Multiply\n",
      "4.Divide\n",
      "Choose Operation by number(1/2/3/4): 2\n",
      "Enter First Number: a\n",
      "Enter Second Number: 5\n",
      "Invalid Numbers entered!\n"
     ]
    }
   ],
   "source": [
    "## Try Invalid Numbers\n",
    "displayFunc(selectOperation)"
   ]
  }
 ],
 "metadata": {
  "kernelspec": {
   "display_name": "Python 3",
   "language": "python",
   "name": "python3"
  },
  "language_info": {
   "codemirror_mode": {
    "name": "ipython",
    "version": 3
   },
   "file_extension": ".py",
   "mimetype": "text/x-python",
   "name": "python",
   "nbconvert_exporter": "python",
   "pygments_lexer": "ipython3",
   "version": "3.9.7"
  }
 },
 "nbformat": 4,
 "nbformat_minor": 5
}
