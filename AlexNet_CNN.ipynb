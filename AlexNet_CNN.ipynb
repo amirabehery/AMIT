{
  "nbformat": 4,
  "nbformat_minor": 0,
  "metadata": {
    "colab": {
      "provenance": [],
      "mount_file_id": "11tBT_zx6EoJ7xNvP8y3fH7QKUn0j53tK",
      "authorship_tag": "ABX9TyNRv5wCuMMrhWAC7woQ2FBf",
      "include_colab_link": true
    },
    "kernelspec": {
      "name": "python3",
      "display_name": "Python 3"
    },
    "language_info": {
      "name": "python"
    },
    "accelerator": "GPU",
    "gpuClass": "standard"
  },
  "cells": [
    {
      "cell_type": "markdown",
      "metadata": {
        "id": "view-in-github",
        "colab_type": "text"
      },
      "source": [
        "<a href=\"https://colab.research.google.com/github/amirabehery/AMIT/blob/main/AlexNet_CNN.ipynb\" target=\"_parent\"><img src=\"https://colab.research.google.com/assets/colab-badge.svg\" alt=\"Open In Colab\"/></a>"
      ]
    },
    {
      "cell_type": "code",
      "execution_count": 18,
      "metadata": {
        "id": "uk9JJ-BPmuXS"
      },
      "outputs": [],
      "source": [
        "import keras\n",
        "import matplotlib.pyplot as plt\n",
        "import numpy as np\n",
        "import pandas as pd\n",
        "import tensorflow as tf\n",
        "from keras.layers import Dense, Dropout, Flatten, Conv2D, MaxPooling2D, BatchNormalization\n",
        "from keras.models import Sequential\n",
        "from sklearn.model_selection import train_test_split\n",
        "from keras.datasets import cifar10\n",
        "from keras.preprocessing.image import ImageDataGenerator\n",
        "from sklearn.metrics import accuracy_score"
      ]
    },
    {
      "cell_type": "markdown",
      "source": [
        "# Importing Data & Splitting Data\n",
        "\n",
        "\n"
      ],
      "metadata": {
        "id": "mpCPHtyQw1TN"
      }
    },
    {
      "cell_type": "code",
      "source": [
        "# importing data\n",
        "(x_train, y_train), (x_test, y_test) = cifar10.load_data()"
      ],
      "metadata": {
        "colab": {
          "base_uri": "https://localhost:8080/"
        },
        "id": "cXO0qcynv7zU",
        "outputId": "86eb1db8-5dad-446f-f1d3-634576755800"
      },
      "execution_count": 2,
      "outputs": [
        {
          "output_type": "stream",
          "name": "stdout",
          "text": [
            "Downloading data from https://www.cs.toronto.edu/~kriz/cifar-10-python.tar.gz\n",
            "170498071/170498071 [==============================] - 4s 0us/step\n"
          ]
        }
      ]
    },
    {
      "cell_type": "code",
      "source": [
        "x_train, x_valid, y_train, y_valid = train_test_split(x_train, y_train, test_size=0.3)"
      ],
      "metadata": {
        "id": "LqMNcTTyv7wD"
      },
      "execution_count": 3,
      "outputs": []
    },
    {
      "cell_type": "code",
      "source": [
        "x_train.shape, x_valid.shape, y_train.shape, y_valid.shape, x_test.shape, y_test.shape"
      ],
      "metadata": {
        "colab": {
          "base_uri": "https://localhost:8080/"
        },
        "id": "_K0sMo1nv7tW",
        "outputId": "d53ff042-4f96-4d8e-dfa4-b8678ad183c2"
      },
      "execution_count": 4,
      "outputs": [
        {
          "output_type": "execute_result",
          "data": {
            "text/plain": [
              "((35000, 32, 32, 3),\n",
              " (15000, 32, 32, 3),\n",
              " (35000, 1),\n",
              " (15000, 1),\n",
              " (10000, 32, 32, 3),\n",
              " (10000, 1))"
            ]
          },
          "metadata": {},
          "execution_count": 4
        }
      ]
    },
    {
      "cell_type": "markdown",
      "source": [
        "# Image Augmentation"
      ],
      "metadata": {
        "id": "eZDnHy-Xyi88"
      }
    },
    {
      "cell_type": "code",
      "source": [
        "train_generator = ImageDataGenerator(rotation_range=2, horizontal_flip=True, zoom_range=0.1)\n",
        "val_generator = ImageDataGenerator(rotation_range=2, horizontal_flip=True, zoom_range=0.1)\n",
        "test_generator = ImageDataGenerator(rotation_range=2, horizontal_flip=True, zoom_range=0.1)\n",
        "\n",
        "train_generator.fit(x_train)\n",
        "val_generator.fit(x_valid)\n",
        "test_generator.fit(x_test)\n",
        "\n",
        "xtrain_generator = train_generator.flow(x_train, y_train)\n",
        "xval_generator = val_generator.flow(x_valid, y_valid)\n",
        "xtest_generator = test_generator.flow(x_test, y_test)"
      ],
      "metadata": {
        "id": "WvYTP-v6v7es"
      },
      "execution_count": 5,
      "outputs": []
    },
    {
      "cell_type": "markdown",
      "source": [
        "# Building Alex Model"
      ],
      "metadata": {
        "id": "Z8MgaKHuydJx"
      }
    },
    {
      "cell_type": "code",
      "source": [
        "alexNet = Sequential()\n",
        "\n",
        "# 1st layer\n",
        "alexNet.add(Conv2D(filters = 96, input_shape=(32,32,3), kernel_size=(11,11), strides=(4,4), padding='same', activation='relu'))\n",
        "alexNet.add(BatchNormalization())\n",
        "alexNet.add(MaxPooling2D(pool_size=(3,3), strides=(2,2), padding='same'))\n",
        "\n",
        "# 2nd layer\n",
        "alexNet.add(Conv2D(filters = 256, kernel_size=(5,5), strides=(1,1), padding='same', activation='relu'))\n",
        "alexNet.add(BatchNormalization())\n",
        "alexNet.add(MaxPooling2D(pool_size=(3,3), strides=(2,2), padding='same'))\n",
        "\n",
        "# 3th layer\n",
        "alexNet.add(Conv2D(filters = 384, kernel_size=(3,3), strides=(1,1), padding='same', activation='relu'))\n",
        "alexNet.add(BatchNormalization())\n",
        "\n",
        "# 4th layer\n",
        "alexNet.add(Conv2D(filters = 384, kernel_size=(3,3), strides=(1,1), padding='same', activation='relu'))\n",
        "alexNet.add(BatchNormalization())\n",
        "\n",
        "# 5th layer\n",
        "alexNet.add(Conv2D(filters = 256, kernel_size=(3,3), strides=(1,1), padding='same', activation='relu'))\n",
        "alexNet.add(BatchNormalization())\n",
        "alexNet.add(MaxPooling2D(pool_size=(3,3), strides=(2,2), padding='same'))\n",
        "\n",
        "# flatten\n",
        "alexNet.add(Flatten())\n",
        "\n",
        "# Start Fully Connected Layer =====> 6th layer\n",
        "alexNet.add(Dense(4096, activation='relu'))\n",
        "\n",
        "# 1st dropout \n",
        "alexNet.add(Dropout(rate=0.5))\n",
        "\n",
        "# 2nd Fully Connected Layer =====> 7th layer\n",
        "alexNet.add(Dense(4096, activation='relu'))\n",
        "\n",
        "# 2nd dropout \n",
        "alexNet.add(Dropout(rate=0.5))\n",
        "\n",
        "# 3nd Fully Connected Layer =====> 8th layer\n",
        "alexNet.add(Dense(4096, activation='relu'))\n",
        "\n",
        "# output layer =====> 8th layer\n",
        "alexNet.add(Dense(10, activation='softmax'))"
      ],
      "metadata": {
        "id": "rmTXrdzenLfl"
      },
      "execution_count": 6,
      "outputs": []
    },
    {
      "cell_type": "code",
      "source": [
        "alexNet.compile(optimizer='adam', loss='sparse_categorical_crossentropy', metrics=['accuracy'])\n",
        "alexNet.summary()"
      ],
      "metadata": {
        "colab": {
          "base_uri": "https://localhost:8080/"
        },
        "id": "YN1AThiosWI9",
        "outputId": "0e130eb7-c821-45cd-9f1c-eeedac526ad2"
      },
      "execution_count": 7,
      "outputs": [
        {
          "output_type": "stream",
          "name": "stdout",
          "text": [
            "Model: \"sequential\"\n",
            "_________________________________________________________________\n",
            " Layer (type)                Output Shape              Param #   \n",
            "=================================================================\n",
            " conv2d (Conv2D)             (None, 8, 8, 96)          34944     \n",
            "                                                                 \n",
            " batch_normalization (BatchN  (None, 8, 8, 96)         384       \n",
            " ormalization)                                                   \n",
            "                                                                 \n",
            " max_pooling2d (MaxPooling2D  (None, 4, 4, 96)         0         \n",
            " )                                                               \n",
            "                                                                 \n",
            " conv2d_1 (Conv2D)           (None, 4, 4, 256)         614656    \n",
            "                                                                 \n",
            " batch_normalization_1 (Batc  (None, 4, 4, 256)        1024      \n",
            " hNormalization)                                                 \n",
            "                                                                 \n",
            " max_pooling2d_1 (MaxPooling  (None, 2, 2, 256)        0         \n",
            " 2D)                                                             \n",
            "                                                                 \n",
            " conv2d_2 (Conv2D)           (None, 2, 2, 384)         885120    \n",
            "                                                                 \n",
            " batch_normalization_2 (Batc  (None, 2, 2, 384)        1536      \n",
            " hNormalization)                                                 \n",
            "                                                                 \n",
            " conv2d_3 (Conv2D)           (None, 2, 2, 384)         1327488   \n",
            "                                                                 \n",
            " batch_normalization_3 (Batc  (None, 2, 2, 384)        1536      \n",
            " hNormalization)                                                 \n",
            "                                                                 \n",
            " conv2d_4 (Conv2D)           (None, 2, 2, 256)         884992    \n",
            "                                                                 \n",
            " batch_normalization_4 (Batc  (None, 2, 2, 256)        1024      \n",
            " hNormalization)                                                 \n",
            "                                                                 \n",
            " max_pooling2d_2 (MaxPooling  (None, 1, 1, 256)        0         \n",
            " 2D)                                                             \n",
            "                                                                 \n",
            " flatten (Flatten)           (None, 256)               0         \n",
            "                                                                 \n",
            " dense (Dense)               (None, 4096)              1052672   \n",
            "                                                                 \n",
            " dropout (Dropout)           (None, 4096)              0         \n",
            "                                                                 \n",
            " dense_1 (Dense)             (None, 4096)              16781312  \n",
            "                                                                 \n",
            " dropout_1 (Dropout)         (None, 4096)              0         \n",
            "                                                                 \n",
            " dense_2 (Dense)             (None, 4096)              16781312  \n",
            "                                                                 \n",
            " dense_3 (Dense)             (None, 10)                40970     \n",
            "                                                                 \n",
            "=================================================================\n",
            "Total params: 38,408,970\n",
            "Trainable params: 38,406,218\n",
            "Non-trainable params: 2,752\n",
            "_________________________________________________________________\n"
          ]
        }
      ]
    },
    {
      "cell_type": "code",
      "source": [
        "alexNet.fit(xtrain_generator, epochs=10, validation_data=xval_generator, verbose=1)"
      ],
      "metadata": {
        "colab": {
          "base_uri": "https://localhost:8080/"
        },
        "id": "ELhg6D0VtvRe",
        "outputId": "716d628f-3053-4067-d590-e03055335d1e"
      },
      "execution_count": 8,
      "outputs": [
        {
          "output_type": "stream",
          "name": "stdout",
          "text": [
            "Epoch 1/10\n",
            "1094/1094 [==============================] - 51s 32ms/step - loss: 1.9860 - accuracy: 0.1028 - val_loss: 2.0781 - val_accuracy: 0.3627\n",
            "Epoch 2/10\n",
            "1094/1094 [==============================] - 48s 44ms/step - loss: 1.7630 - accuracy: 0.1060 - val_loss: 1.7785 - val_accuracy: 0.1288\n",
            "Epoch 3/10\n",
            "1094/1094 [==============================] - 35s 32ms/step - loss: 1.6194 - accuracy: 0.1009 - val_loss: 1.5603 - val_accuracy: 0.1270\n",
            "Epoch 4/10\n",
            "1094/1094 [==============================] - 52s 48ms/step - loss: 1.5176 - accuracy: 0.1113 - val_loss: 1.6602 - val_accuracy: 0.0935\n",
            "Epoch 5/10\n",
            "1094/1094 [==============================] - 57s 52ms/step - loss: 1.4468 - accuracy: 0.1104 - val_loss: 1.8316 - val_accuracy: 0.0770\n",
            "Epoch 6/10\n",
            "1094/1094 [==============================] - 40s 37ms/step - loss: 1.3640 - accuracy: 0.1073 - val_loss: 1.6863 - val_accuracy: 0.0697\n",
            "Epoch 7/10\n",
            "1094/1094 [==============================] - 40s 36ms/step - loss: 1.3117 - accuracy: 0.1056 - val_loss: 1.3587 - val_accuracy: 0.0705\n",
            "Epoch 8/10\n",
            "1094/1094 [==============================] - 36s 33ms/step - loss: 1.2550 - accuracy: 0.1058 - val_loss: 1.3225 - val_accuracy: 0.1709\n",
            "Epoch 9/10\n",
            "1094/1094 [==============================] - 40s 36ms/step - loss: 1.2130 - accuracy: 0.1046 - val_loss: 1.2160 - val_accuracy: 0.0956\n",
            "Epoch 10/10\n",
            "1094/1094 [==============================] - 36s 33ms/step - loss: 1.1642 - accuracy: 0.1047 - val_loss: 1.3864 - val_accuracy: 0.0814\n"
          ]
        },
        {
          "output_type": "execute_result",
          "data": {
            "text/plain": [
              "<keras.callbacks.History at 0x7fd0d0596550>"
            ]
          },
          "metadata": {},
          "execution_count": 8
        }
      ]
    },
    {
      "cell_type": "code",
      "source": [
        "y_pred = alexNet.predict(x_test)"
      ],
      "metadata": {
        "colab": {
          "base_uri": "https://localhost:8080/"
        },
        "id": "JsKUx9zIvTB0",
        "outputId": "4d1b79be-7f90-405b-fbb5-d05c34d0b0c9"
      },
      "execution_count": 14,
      "outputs": [
        {
          "output_type": "stream",
          "name": "stdout",
          "text": [
            "313/313 [==============================] - 1s 4ms/step\n"
          ]
        }
      ]
    },
    {
      "cell_type": "code",
      "source": [
        "def transform_predictions(list1):\n",
        "  result = []\n",
        "  for i in range(len(list1)):\n",
        "    max_ = np.argmax(list1[i])\n",
        "    result.append(max_)\n",
        "  return result"
      ],
      "metadata": {
        "id": "Tn-kHbgRvTEl"
      },
      "execution_count": 15,
      "outputs": []
    },
    {
      "cell_type": "code",
      "source": [
        "y_pred_transformed = transform_predictions(y_pred)"
      ],
      "metadata": {
        "id": "pGYs2tkBvTHV"
      },
      "execution_count": 16,
      "outputs": []
    },
    {
      "cell_type": "code",
      "source": [
        "accuracy_score(y_pred_transformed, y_test)"
      ],
      "metadata": {
        "colab": {
          "base_uri": "https://localhost:8080/"
        },
        "id": "VMzPqSZtvTJ2",
        "outputId": "fc26aa82-3193-4c9d-f2a4-7eab818dbc8f"
      },
      "execution_count": 19,
      "outputs": [
        {
          "output_type": "execute_result",
          "data": {
            "text/plain": [
              "0.558"
            ]
          },
          "metadata": {},
          "execution_count": 19
        }
      ]
    },
    {
      "cell_type": "code",
      "source": [],
      "metadata": {
        "id": "bSCGhfv4vTMT"
      },
      "execution_count": 8,
      "outputs": []
    }
  ]
}