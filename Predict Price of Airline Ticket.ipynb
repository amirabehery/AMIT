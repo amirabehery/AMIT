{
 "cells": [
  {
   "cell_type": "code",
   "execution_count": 1,
   "id": "080704d4",
   "metadata": {},
   "outputs": [],
   "source": [
    "import pandas as pd\n",
    "import numpy as np\n",
    "import seaborn as sns\n",
    "import matplotlib.pyplot as plt\n",
    "from sklearn.preprocessing import LabelEncoder as lb\n",
    "from sklearn.model_selection import train_test_split\n",
    "from sklearn.ensemble import RandomForestRegressor\n",
    "from sklearn.metrics import mean_absolute_error as MAE, mean_squared_error as MSE, \\\n",
    "mean_absolute_percentage_error as MAPE , r2_score as r2\n",
    "from sklearn.model_selection import KFold\n",
    "from sklearn.model_selection import cross_val_score"
   ]
  },
  {
   "cell_type": "code",
   "execution_count": 2,
   "id": "abec20d4",
   "metadata": {},
   "outputs": [],
   "source": [
    "df = pd.read_csv('Predict Price of Airline Tickets.csv')"
   ]
  },
  {
   "cell_type": "code",
   "execution_count": 3,
   "id": "2ee5fba6",
   "metadata": {},
   "outputs": [
    {
     "data": {
      "text/html": [
       "<div>\n",
       "<style scoped>\n",
       "    .dataframe tbody tr th:only-of-type {\n",
       "        vertical-align: middle;\n",
       "    }\n",
       "\n",
       "    .dataframe tbody tr th {\n",
       "        vertical-align: top;\n",
       "    }\n",
       "\n",
       "    .dataframe thead th {\n",
       "        text-align: right;\n",
       "    }\n",
       "</style>\n",
       "<table border=\"1\" class=\"dataframe\">\n",
       "  <thead>\n",
       "    <tr style=\"text-align: right;\">\n",
       "      <th></th>\n",
       "      <th>Airline</th>\n",
       "      <th>Date_of_Journey</th>\n",
       "      <th>Source</th>\n",
       "      <th>Destination</th>\n",
       "      <th>Route</th>\n",
       "      <th>Dep_Time</th>\n",
       "      <th>Arrival_Time</th>\n",
       "      <th>Duration</th>\n",
       "      <th>Total_Stops</th>\n",
       "      <th>Additional_Info</th>\n",
       "      <th>Price</th>\n",
       "    </tr>\n",
       "  </thead>\n",
       "  <tbody>\n",
       "    <tr>\n",
       "      <th>0</th>\n",
       "      <td>IndiGo</td>\n",
       "      <td>24/03/2019</td>\n",
       "      <td>Banglore</td>\n",
       "      <td>New Delhi</td>\n",
       "      <td>BLR ? DEL</td>\n",
       "      <td>22:20</td>\n",
       "      <td>01:10 22 Mar</td>\n",
       "      <td>2h 50m</td>\n",
       "      <td>non-stop</td>\n",
       "      <td>No info</td>\n",
       "      <td>3897</td>\n",
       "    </tr>\n",
       "    <tr>\n",
       "      <th>1</th>\n",
       "      <td>Air India</td>\n",
       "      <td>1/05/2019</td>\n",
       "      <td>Kolkata</td>\n",
       "      <td>Banglore</td>\n",
       "      <td>CCU ? IXR ? BBI ? BLR</td>\n",
       "      <td>05:50</td>\n",
       "      <td>13:15</td>\n",
       "      <td>7h 25m</td>\n",
       "      <td>2 stops</td>\n",
       "      <td>No info</td>\n",
       "      <td>7662</td>\n",
       "    </tr>\n",
       "    <tr>\n",
       "      <th>2</th>\n",
       "      <td>Jet Airways</td>\n",
       "      <td>9/06/2019</td>\n",
       "      <td>Delhi</td>\n",
       "      <td>Cochin</td>\n",
       "      <td>DEL ? LKO ? BOM ? COK</td>\n",
       "      <td>09:25</td>\n",
       "      <td>04:25 10 Jun</td>\n",
       "      <td>19h</td>\n",
       "      <td>2 stops</td>\n",
       "      <td>No info</td>\n",
       "      <td>13882</td>\n",
       "    </tr>\n",
       "    <tr>\n",
       "      <th>3</th>\n",
       "      <td>IndiGo</td>\n",
       "      <td>12/05/2019</td>\n",
       "      <td>Kolkata</td>\n",
       "      <td>Banglore</td>\n",
       "      <td>CCU ? NAG ? BLR</td>\n",
       "      <td>18:05</td>\n",
       "      <td>23:30</td>\n",
       "      <td>5h 25m</td>\n",
       "      <td>1 stop</td>\n",
       "      <td>No info</td>\n",
       "      <td>6218</td>\n",
       "    </tr>\n",
       "    <tr>\n",
       "      <th>4</th>\n",
       "      <td>IndiGo</td>\n",
       "      <td>01/03/2019</td>\n",
       "      <td>Banglore</td>\n",
       "      <td>New Delhi</td>\n",
       "      <td>BLR ? NAG ? DEL</td>\n",
       "      <td>16:50</td>\n",
       "      <td>21:35</td>\n",
       "      <td>4h 45m</td>\n",
       "      <td>1 stop</td>\n",
       "      <td>No info</td>\n",
       "      <td>13302</td>\n",
       "    </tr>\n",
       "  </tbody>\n",
       "</table>\n",
       "</div>"
      ],
      "text/plain": [
       "       Airline Date_of_Journey    Source Destination                  Route  \\\n",
       "0       IndiGo      24/03/2019  Banglore   New Delhi              BLR ? DEL   \n",
       "1    Air India       1/05/2019   Kolkata    Banglore  CCU ? IXR ? BBI ? BLR   \n",
       "2  Jet Airways       9/06/2019     Delhi      Cochin  DEL ? LKO ? BOM ? COK   \n",
       "3       IndiGo      12/05/2019   Kolkata    Banglore        CCU ? NAG ? BLR   \n",
       "4       IndiGo      01/03/2019  Banglore   New Delhi        BLR ? NAG ? DEL   \n",
       "\n",
       "  Dep_Time  Arrival_Time Duration Total_Stops Additional_Info  Price  \n",
       "0    22:20  01:10 22 Mar   2h 50m    non-stop         No info   3897  \n",
       "1    05:50         13:15   7h 25m     2 stops         No info   7662  \n",
       "2    09:25  04:25 10 Jun      19h     2 stops         No info  13882  \n",
       "3    18:05         23:30   5h 25m      1 stop         No info   6218  \n",
       "4    16:50         21:35   4h 45m      1 stop         No info  13302  "
      ]
     },
     "execution_count": 3,
     "metadata": {},
     "output_type": "execute_result"
    }
   ],
   "source": [
    "df.head()"
   ]
  },
  {
   "cell_type": "code",
   "execution_count": 4,
   "id": "6b89a762",
   "metadata": {},
   "outputs": [
    {
     "name": "stdout",
     "output_type": "stream",
     "text": [
      "<class 'pandas.core.frame.DataFrame'>\n",
      "RangeIndex: 10683 entries, 0 to 10682\n",
      "Data columns (total 11 columns):\n",
      " #   Column           Non-Null Count  Dtype \n",
      "---  ------           --------------  ----- \n",
      " 0   Airline          10683 non-null  object\n",
      " 1   Date_of_Journey  10683 non-null  object\n",
      " 2   Source           10683 non-null  object\n",
      " 3   Destination      10683 non-null  object\n",
      " 4   Route            10682 non-null  object\n",
      " 5   Dep_Time         10683 non-null  object\n",
      " 6   Arrival_Time     10683 non-null  object\n",
      " 7   Duration         10683 non-null  object\n",
      " 8   Total_Stops      10682 non-null  object\n",
      " 9   Additional_Info  10683 non-null  object\n",
      " 10  Price            10683 non-null  int64 \n",
      "dtypes: int64(1), object(10)\n",
      "memory usage: 918.2+ KB\n"
     ]
    }
   ],
   "source": [
    "df.info()"
   ]
  },
  {
   "cell_type": "code",
   "execution_count": 5,
   "id": "b5165d91",
   "metadata": {},
   "outputs": [],
   "source": [
    "lbc = lb()\n",
    "data = df.apply(lbc.fit_transform)"
   ]
  },
  {
   "cell_type": "code",
   "execution_count": 6,
   "id": "4bada256",
   "metadata": {},
   "outputs": [],
   "source": [
    "x = data.drop('Price',axis=1).values\n",
    "y = data['Price'].values"
   ]
  },
  {
   "cell_type": "code",
   "execution_count": 7,
   "id": "e332840a",
   "metadata": {},
   "outputs": [
    {
     "data": {
      "text/plain": [
       "((10683, 10), (10683,))"
      ]
     },
     "execution_count": 7,
     "metadata": {},
     "output_type": "execute_result"
    }
   ],
   "source": [
    "x.shape,y.shape"
   ]
  },
  {
   "cell_type": "code",
   "execution_count": 8,
   "id": "ed661489",
   "metadata": {},
   "outputs": [],
   "source": [
    "y = y.reshape(y.shape[0],1)"
   ]
  },
  {
   "cell_type": "code",
   "execution_count": 9,
   "id": "cd176ced",
   "metadata": {},
   "outputs": [
    {
     "data": {
      "text/plain": [
       "((10683, 10), (10683, 1))"
      ]
     },
     "execution_count": 9,
     "metadata": {},
     "output_type": "execute_result"
    }
   ],
   "source": [
    "x.shape,y.shape"
   ]
  },
  {
   "cell_type": "code",
   "execution_count": 10,
   "id": "d530afc3",
   "metadata": {},
   "outputs": [],
   "source": [
    "x_train,x_test,y_train,y_test = train_test_split(x,y,test_size=0.33,random_state=1)"
   ]
  },
  {
   "cell_type": "code",
   "execution_count": 11,
   "id": "82dd69e5",
   "metadata": {},
   "outputs": [
    {
     "name": "stderr",
     "output_type": "stream",
     "text": [
      "C:\\Users\\amira\\AppData\\Local\\Temp\\ipykernel_2168\\2676188207.py:2: DataConversionWarning: A column-vector y was passed when a 1d array was expected. Please change the shape of y to (n_samples,), for example using ravel().\n",
      "  model.fit(x_train,y_train)\n"
     ]
    }
   ],
   "source": [
    "model = RandomForestRegressor()\n",
    "model.fit(x_train,y_train)\n",
    "y_pred = model.predict(x_test)"
   ]
  },
  {
   "cell_type": "code",
   "execution_count": 12,
   "id": "8fe67aa1",
   "metadata": {},
   "outputs": [],
   "source": [
    "def evaluate_model(y1,y2):\n",
    "    print(\"MAE: \", MAE(y1,y2))\n",
    "    print(\"MSE: \", MSE(y1,y2))\n",
    "    print(\"R Squared: \", r2(y1,y2))\n",
    "    print(\"MAPE: \", MAPE(y1,y2))\n",
    "    print(\"RMSE: \", np.sqrt(MSE(y1,y2)))"
   ]
  },
  {
   "cell_type": "code",
   "execution_count": 13,
   "id": "ee8f3dc0",
   "metadata": {},
   "outputs": [
    {
     "name": "stdout",
     "output_type": "stream",
     "text": [
      "MAE:  100.46558768648318\n",
      "MSE:  29354.0464453718\n",
      "R Squared:  0.8993485472192215\n",
      "MAPE:  0.22684466793707128\n",
      "RMSE:  171.3302263039765\n"
     ]
    }
   ],
   "source": [
    "evaluate_model(y_pred,y_test)"
   ]
  },
  {
   "cell_type": "code",
   "execution_count": 14,
   "id": "a89d4fd2",
   "metadata": {},
   "outputs": [],
   "source": [
    "# extract important features\n",
    "def getImportantFeature(dataFrame,modelUsed):\n",
    "    columns_names = dataFrame.columns.tolist()\n",
    "    importance = modelUsed.feature_importances_\n",
    "    indices = np.argsort(importance)\n",
    "    plt.barh(range(len(indices)), importance[indices], color='b', align='center')\n",
    "    plt.yticks(range(len(indices)),[columns_names[i] for i in indices])\n",
    "    plt.show()"
   ]
  },
  {
   "cell_type": "code",
   "execution_count": 15,
   "id": "d65443de",
   "metadata": {},
   "outputs": [
    {
     "data": {
      "image/png": "[encoded data removed]",
      "text/plain": [
       "<Figure size 432x288 with 1 Axes>"
      ]
     },
     "metadata": {
      "needs_background": "light"
     },
     "output_type": "display_data"
    }
   ],
   "source": [
    "getImportantFeature(data,model)"
   ]
  },
  {
   "cell_type": "code",
   "execution_count": 16,
   "id": "77fb112d",
   "metadata": {},
   "outputs": [
    {
     "name": "stdout",
     "output_type": "stream",
     "text": [
      "MAE:  100.46558768648318\n",
      "MSE:  29354.0464453718\n",
      "R Squared:  0.8993485472192215\n",
      "MAPE:  0.22684466793707128\n",
      "RMSE:  171.3302263039765\n"
     ]
    }
   ],
   "source": [
    "evaluate_model(y_pred,y_test)"
   ]
  },
  {
   "cell_type": "code",
   "execution_count": 17,
   "id": "5e0454e9",
   "metadata": {},
   "outputs": [],
   "source": [
    "def metricesFromCrossValidation(modelUsed,XData,YData,*,n):\n",
    "    cv = KFold(n_splits=n, random_state=1,shuffle=True)\n",
    "    scores_MAE = cross_val_score(modelUsed,XData,YData,scoring='neg_mean_absolute_error',cv = cv,n_jobs=-1)\n",
    "    avg_MAE = np.mean(np.absolute(scores_MAE))\n",
    "    scores_MSE = cross_val_score(modelUsed,XData,YData,scoring='neg_mean_squared_error',cv = cv,n_jobs=-1)\n",
    "    avg_MSE = np.mean(np.absolute(scores_MSE))\n",
    "    print(\"MAE_Cross Validation: \", avg_MAE)\n",
    "    print(\"MSE_Cross Validation: \", avg_MSE)"
   ]
  },
  {
   "cell_type": "code",
   "execution_count": 18,
   "id": "3f35b2a5",
   "metadata": {},
   "outputs": [
    {
     "name": "stdout",
     "output_type": "stream",
     "text": [
      "MAE_Cross Validation:  92.18992228815698\n",
      "MSE_Cross Validation:  27157.28308457023\n"
     ]
    }
   ],
   "source": [
    "metricesFromCrossValidation(model,x,y,n=25)"
   ]
  },
  {
   "cell_type": "code",
   "execution_count": 19,
   "id": "246d0bdf",
   "metadata": {},
   "outputs": [
    {
     "name": "stdout",
     "output_type": "stream",
     "text": [
      "-------n = 10----------\n",
      "MAE_Cross Validation:  93.64949778566825\n",
      "MSE_Cross Validation:  27655.458401895845\n",
      "-------n = 15----------\n",
      "MAE_Cross Validation:  93.00778792713639\n",
      "MSE_Cross Validation:  27498.50188390212\n",
      "-------n = 20----------\n",
      "MAE_Cross Validation:  92.3955985841124\n",
      "MSE_Cross Validation:  27079.482533622497\n",
      "-------n = 25----------\n",
      "MAE_Cross Validation:  92.29744187529936\n",
      "MSE_Cross Validation:  27116.496883855794\n",
      "-------n = 30----------\n",
      "MAE_Cross Validation:  92.20127043555097\n",
      "MSE_Cross Validation:  27077.39188074101\n",
      "-------n = 35----------\n",
      "MAE_Cross Validation:  92.0546269347199\n",
      "MSE_Cross Validation:  27272.851815949478\n",
      "-------n = 40----------\n",
      "MAE_Cross Validation:  91.87729873830378\n",
      "MSE_Cross Validation:  27017.33542212092\n"
     ]
    }
   ],
   "source": [
    "# try best number of iterations to nearby results to the evaluate model metrices above\n",
    "for i in range(10,41):\n",
    "    if i % 5 == 0:\n",
    "        print(f'-------n = {i}----------')\n",
    "        metricesFromCrossValidation(model,x,y,n=i)"
   ]
  },
  {
   "cell_type": "code",
   "execution_count": null,
   "id": "ac0c083a",
   "metadata": {},
   "outputs": [],
   "source": []
  }
 ],
 "metadata": {
  "kernelspec": {
   "display_name": "Python 3",
   "language": "python",
   "name": "python3"
  },
  "language_info": {
   "codemirror_mode": {
    "name": "ipython",
    "version": 3
   },
   "file_extension": ".py",
   "mimetype": "text/x-python",
   "name": "python",
   "nbconvert_exporter": "python",
   "pygments_lexer": "ipython3",
   "version": "3.9.7"
  }
 },
 "nbformat": 4,
 "nbformat_minor": 5
}
