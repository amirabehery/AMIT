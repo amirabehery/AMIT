{
  "nbformat": 4,
  "nbformat_minor": 0,
  "metadata": {
    "colab": {
      "provenance": [],
      "mount_file_id": "1vgrfwDeZlDFB3ry44AZGTnsgmdFk4iWC",
      "authorship_tag": "ABX9TyOP8GLsc3KS0+wby8D0QRn6",
      "include_colab_link": true
    },
    "kernelspec": {
      "name": "python3",
      "display_name": "Python 3"
    },
    "language_info": {
      "name": "python"
    },
    "accelerator": "GPU",
    "gpuClass": "standard"
  },
  "cells": [
    {
      "cell_type": "markdown",
      "metadata": {
        "id": "view-in-github",
        "colab_type": "text"
      },
      "source": [
        "<a href=\"https://colab.research.google.com/github/amirabehery/AMIT/blob/main/sonar_dataset_nn.ipynb\" target=\"_parent\"><img src=\"https://colab.research.google.com/assets/colab-badge.svg\" alt=\"Open In Colab\"/></a>"
      ]
    },
    {
      "cell_type": "code",
      "execution_count": null,
      "metadata": {
        "id": "Cda_FvAUaxLW"
      },
      "outputs": [],
      "source": [
        "import numpy as np\n",
        "import keras \n",
        "import pandas as pd\n",
        "import matplotlib.pyplot as plt\n",
        "import tensorflow as tf\n",
        "from sklearn.model_selection import train_test_split\n",
        "from keras.models import Sequential\n",
        "from keras.layers import Dense, BatchNormalization, Dropout\n",
        "from sklearn.metrics import accuracy_score"
      ]
    },
    {
      "cell_type": "code",
      "source": [
        "df = pd.read_csv('/content/drive/MyDrive/Computer_Vision/NN/sonar_dataset.csv', header=None)\n",
        "df.head()"
      ],
      "metadata": {
        "colab": {
          "base_uri": "https://localhost:8080/",
          "height": 235
        },
        "id": "oYsWfkanbmrB",
        "outputId": "719c8558-e415-4cc9-ac1d-3b3051d09056"
      },
      "execution_count": null,
      "outputs": [
        {
          "output_type": "execute_result",
          "data": {
            "text/plain": [
              "       0       1       2       3       4       5       6       7       8   \\\n",
              "0  0.0200  0.0371  0.0428  0.0207  0.0954  0.0986  0.1539  0.1601  0.3109   \n",
              "1  0.0453  0.0523  0.0843  0.0689  0.1183  0.2583  0.2156  0.3481  0.3337   \n",
              "2  0.0262  0.0582  0.1099  0.1083  0.0974  0.2280  0.2431  0.3771  0.5598   \n",
              "3  0.0100  0.0171  0.0623  0.0205  0.0205  0.0368  0.1098  0.1276  0.0598   \n",
              "4  0.0762  0.0666  0.0481  0.0394  0.0590  0.0649  0.1209  0.2467  0.3564   \n",
              "\n",
              "       9   ...      51      52      53      54      55      56      57  \\\n",
              "0  0.2111  ...  0.0027  0.0065  0.0159  0.0072  0.0167  0.0180  0.0084   \n",
              "1  0.2872  ...  0.0084  0.0089  0.0048  0.0094  0.0191  0.0140  0.0049   \n",
              "2  0.6194  ...  0.0232  0.0166  0.0095  0.0180  0.0244  0.0316  0.0164   \n",
              "3  0.1264  ...  0.0121  0.0036  0.0150  0.0085  0.0073  0.0050  0.0044   \n",
              "4  0.4459  ...  0.0031  0.0054  0.0105  0.0110  0.0015  0.0072  0.0048   \n",
              "\n",
              "       58      59  60  \n",
              "0  0.0090  0.0032   R  \n",
              "1  0.0052  0.0044   R  \n",
              "2  0.0095  0.0078   R  \n",
              "3  0.0040  0.0117   R  \n",
              "4  0.0107  0.0094   R  \n",
              "\n",
              "[5 rows x 61 columns]"
            ],
            "text/html": [
              "\n",
              "  <div id=\"df-294a1f63-f3ae-4cdb-a873-9f0d048ed428\">\n",
              "    <div class=\"colab-df-container\">\n",
              "      <div>\n",
              "<style scoped>\n",
              "    .dataframe tbody tr th:only-of-type {\n",
              "        vertical-align: middle;\n",
              "    }\n",
              "\n",
              "    .dataframe tbody tr th {\n",
              "        vertical-align: top;\n",
              "    }\n",
              "\n",
              "    .dataframe thead th {\n",
              "        text-align: right;\n",
              "    }\n",
              "</style>\n",
              "<table border=\"1\" class=\"dataframe\">\n",
              "  <thead>\n",
              "    <tr style=\"text-align: right;\">\n",
              "      <th></th>\n",
              "      <th>0</th>\n",
              "      <th>1</th>\n",
              "      <th>2</th>\n",
              "      <th>3</th>\n",
              "      <th>4</th>\n",
              "      <th>5</th>\n",
              "      <th>6</th>\n",
              "      <th>7</th>\n",
              "      <th>8</th>\n",
              "      <th>9</th>\n",
              "      <th>...</th>\n",
              "      <th>51</th>\n",
              "      <th>52</th>\n",
              "      <th>53</th>\n",
              "      <th>54</th>\n",
              "      <th>55</th>\n",
              "      <th>56</th>\n",
              "      <th>57</th>\n",
              "      <th>58</th>\n",
              "      <th>59</th>\n",
              "      <th>60</th>\n",
              "    </tr>\n",
              "  </thead>\n",
              "  <tbody>\n",
              "    <tr>\n",
              "      <th>0</th>\n",
              "      <td>0.0200</td>\n",
              "      <td>0.0371</td>\n",
              "      <td>0.0428</td>\n",
              "      <td>0.0207</td>\n",
              "      <td>0.0954</td>\n",
              "      <td>0.0986</td>\n",
              "      <td>0.1539</td>\n",
              "      <td>0.1601</td>\n",
              "      <td>0.3109</td>\n",
              "      <td>0.2111</td>\n",
              "      <td>...</td>\n",
              "      <td>0.0027</td>\n",
              "      <td>0.0065</td>\n",
              "      <td>0.0159</td>\n",
              "      <td>0.0072</td>\n",
              "      <td>0.0167</td>\n",
              "      <td>0.0180</td>\n",
              "      <td>0.0084</td>\n",
              "      <td>0.0090</td>\n",
              "      <td>0.0032</td>\n",
              "      <td>R</td>\n",
              "    </tr>\n",
              "    <tr>\n",
              "      <th>1</th>\n",
              "      <td>0.0453</td>\n",
              "      <td>0.0523</td>\n",
              "      <td>0.0843</td>\n",
              "      <td>0.0689</td>\n",
              "      <td>0.1183</td>\n",
              "      <td>0.2583</td>\n",
              "      <td>0.2156</td>\n",
              "      <td>0.3481</td>\n",
              "      <td>0.3337</td>\n",
              "      <td>0.2872</td>\n",
              "      <td>...</td>\n",
              "      <td>0.0084</td>\n",
              "      <td>0.0089</td>\n",
              "      <td>0.0048</td>\n",
              "      <td>0.0094</td>\n",
              "      <td>0.0191</td>\n",
              "      <td>0.0140</td>\n",
              "      <td>0.0049</td>\n",
              "      <td>0.0052</td>\n",
              "      <td>0.0044</td>\n",
              "      <td>R</td>\n",
              "    </tr>\n",
              "    <tr>\n",
              "      <th>2</th>\n",
              "      <td>0.0262</td>\n",
              "      <td>0.0582</td>\n",
              "      <td>0.1099</td>\n",
              "      <td>0.1083</td>\n",
              "      <td>0.0974</td>\n",
              "      <td>0.2280</td>\n",
              "      <td>0.2431</td>\n",
              "      <td>0.3771</td>\n",
              "      <td>0.5598</td>\n",
              "      <td>0.6194</td>\n",
              "      <td>...</td>\n",
              "      <td>0.0232</td>\n",
              "      <td>0.0166</td>\n",
              "      <td>0.0095</td>\n",
              "      <td>0.0180</td>\n",
              "      <td>0.0244</td>\n",
              "      <td>0.0316</td>\n",
              "      <td>0.0164</td>\n",
              "      <td>0.0095</td>\n",
              "      <td>0.0078</td>\n",
              "      <td>R</td>\n",
              "    </tr>\n",
              "    <tr>\n",
              "      <th>3</th>\n",
              "      <td>0.0100</td>\n",
              "      <td>0.0171</td>\n",
              "      <td>0.0623</td>\n",
              "      <td>0.0205</td>\n",
              "      <td>0.0205</td>\n",
              "      <td>0.0368</td>\n",
              "      <td>0.1098</td>\n",
              "      <td>0.1276</td>\n",
              "      <td>0.0598</td>\n",
              "      <td>0.1264</td>\n",
              "      <td>...</td>\n",
              "      <td>0.0121</td>\n",
              "      <td>0.0036</td>\n",
              "      <td>0.0150</td>\n",
              "      <td>0.0085</td>\n",
              "      <td>0.0073</td>\n",
              "      <td>0.0050</td>\n",
              "      <td>0.0044</td>\n",
              "      <td>0.0040</td>\n",
              "      <td>0.0117</td>\n",
              "      <td>R</td>\n",
              "    </tr>\n",
              "    <tr>\n",
              "      <th>4</th>\n",
              "      <td>0.0762</td>\n",
              "      <td>0.0666</td>\n",
              "      <td>0.0481</td>\n",
              "      <td>0.0394</td>\n",
              "      <td>0.0590</td>\n",
              "      <td>0.0649</td>\n",
              "      <td>0.1209</td>\n",
              "      <td>0.2467</td>\n",
              "      <td>0.3564</td>\n",
              "      <td>0.4459</td>\n",
              "      <td>...</td>\n",
              "      <td>0.0031</td>\n",
              "      <td>0.0054</td>\n",
              "      <td>0.0105</td>\n",
              "      <td>0.0110</td>\n",
              "      <td>0.0015</td>\n",
              "      <td>0.0072</td>\n",
              "      <td>0.0048</td>\n",
              "      <td>0.0107</td>\n",
              "      <td>0.0094</td>\n",
              "      <td>R</td>\n",
              "    </tr>\n",
              "  </tbody>\n",
              "</table>\n",
              "<p>5 rows × 61 columns</p>\n",
              "</div>\n",
              "      <button class=\"colab-df-convert\" onclick=\"convertToInteractive('df-294a1f63-f3ae-4cdb-a873-9f0d048ed428')\"\n",
              "              title=\"Convert this dataframe to an interactive table.\"\n",
              "              style=\"display:none;\">\n",
              "        \n",
              "  <svg xmlns=\"http://www.w3.org/2000/svg\" height=\"24px\"viewBox=\"0 0 24 24\"\n",
              "       width=\"24px\">\n",
              "    <path d=\"M0 0h24v24H0V0z\" fill=\"none\"/>\n",
              "    <path d=\"M18.56 5.44l.94 2.06.94-2.06 2.06-.94-2.06-.94-.94-2.06-.94 2.06-2.06.94zm-11 1L8.5 8.5l.94-2.06 2.06-.94-2.06-.94L8.5 2.5l-.94 2.06-2.06.94zm10 10l.94 2.06.94-2.06 2.06-.94-2.06-.94-.94-2.06-.94 2.06-2.06.94z\"/><path d=\"M17.41 7.96l-1.37-1.37c-.4-.4-.92-.59-1.43-.59-.52 0-1.04.2-1.43.59L10.3 9.45l-7.72 7.72c-.78.78-.78 2.05 0 2.83L4 21.41c.39.39.9.59 1.41.59.51 0 1.02-.2 1.41-.59l7.78-7.78 2.81-2.81c.8-.78.8-2.07 0-2.86zM5.41 20L4 18.59l7.72-7.72 1.47 1.35L5.41 20z\"/>\n",
              "  </svg>\n",
              "      </button>\n",
              "      \n",
              "  <style>\n",
              "    .colab-df-container {\n",
              "      display:flex;\n",
              "      flex-wrap:wrap;\n",
              "      gap: 12px;\n",
              "    }\n",
              "\n",
              "    .colab-df-convert {\n",
              "      background-color: #E8F0FE;\n",
              "      border: none;\n",
              "      border-radius: 50%;\n",
              "      cursor: pointer;\n",
              "      display: none;\n",
              "      fill: #1967D2;\n",
              "      height: 32px;\n",
              "      padding: 0 0 0 0;\n",
              "      width: 32px;\n",
              "    }\n",
              "\n",
              "    .colab-df-convert:hover {\n",
              "      background-color: #E2EBFA;\n",
              "      box-shadow: 0px 1px 2px rgba(60, 64, 67, 0.3), 0px 1px 3px 1px rgba(60, 64, 67, 0.15);\n",
              "      fill: #174EA6;\n",
              "    }\n",
              "\n",
              "    [theme=dark] .colab-df-convert {\n",
              "      background-color: #3B4455;\n",
              "      fill: #D2E3FC;\n",
              "    }\n",
              "\n",
              "    [theme=dark] .colab-df-convert:hover {\n",
              "      background-color: #434B5C;\n",
              "      box-shadow: 0px 1px 3px 1px rgba(0, 0, 0, 0.15);\n",
              "      filter: drop-shadow(0px 1px 2px rgba(0, 0, 0, 0.3));\n",
              "      fill: #FFFFFF;\n",
              "    }\n",
              "  </style>\n",
              "\n",
              "      <script>\n",
              "        const buttonEl =\n",
              "          document.querySelector('#df-294a1f63-f3ae-4cdb-a873-9f0d048ed428 button.colab-df-convert');\n",
              "        buttonEl.style.display =\n",
              "          google.colab.kernel.accessAllowed ? 'block' : 'none';\n",
              "\n",
              "        async function convertToInteractive(key) {\n",
              "          const element = document.querySelector('#df-294a1f63-f3ae-4cdb-a873-9f0d048ed428');\n",
              "          const dataTable =\n",
              "            await google.colab.kernel.invokeFunction('convertToInteractive',\n",
              "                                                     [key], {});\n",
              "          if (!dataTable) return;\n",
              "\n",
              "          const docLinkHtml = 'Like what you see? Visit the ' +\n",
              "            '<a target=\"_blank\" href=https://colab.research.google.com/notebooks/data_table.ipynb>data table notebook</a>'\n",
              "            + ' to learn more about interactive tables.';\n",
              "          element.innerHTML = '';\n",
              "          dataTable['output_type'] = 'display_data';\n",
              "          await google.colab.output.renderOutput(dataTable, element);\n",
              "          const docLink = document.createElement('div');\n",
              "          docLink.innerHTML = docLinkHtml;\n",
              "          element.appendChild(docLink);\n",
              "        }\n",
              "      </script>\n",
              "    </div>\n",
              "  </div>\n",
              "  "
            ]
          },
          "metadata": {},
          "execution_count": 3
        }
      ]
    },
    {
      "cell_type": "code",
      "source": [
        "df.iloc[:, -1].value_counts()"
      ],
      "metadata": {
        "colab": {
          "base_uri": "https://localhost:8080/"
        },
        "id": "e9z_dddLcOcD",
        "outputId": "9805730c-c29f-4744-9f2c-b1615d86c54c"
      },
      "execution_count": null,
      "outputs": [
        {
          "output_type": "execute_result",
          "data": {
            "text/plain": [
              "M    111\n",
              "R     97\n",
              "Name: 60, dtype: int64"
            ]
          },
          "metadata": {},
          "execution_count": 4
        }
      ]
    },
    {
      "cell_type": "code",
      "source": [
        "df.iloc[:, -1] = df.iloc[:, -1].map({'M':1,'R':0})"
      ],
      "metadata": {
        "id": "si0VnXggcI_V"
      },
      "execution_count": null,
      "outputs": []
    },
    {
      "cell_type": "code",
      "source": [
        "X = df.iloc[:,:-1]\n",
        "y = df.iloc[:,-1]"
      ],
      "metadata": {
        "id": "eXUM7fY1bnPO"
      },
      "execution_count": null,
      "outputs": []
    },
    {
      "cell_type": "code",
      "source": [
        "x_train, x_test, y_train, y_test = train_test_split(X, y, test_size=0.2)\n",
        "x_train.shape , x_test.shape , y_train.shape , y_test.shape"
      ],
      "metadata": {
        "colab": {
          "base_uri": "https://localhost:8080/"
        },
        "id": "DEEAOBWsbnSM",
        "outputId": "2b26e399-0010-4c32-8fde-746328a91b9a"
      },
      "execution_count": null,
      "outputs": [
        {
          "output_type": "execute_result",
          "data": {
            "text/plain": [
              "((166, 60), (42, 60), (166,), (42,))"
            ]
          },
          "metadata": {},
          "execution_count": 7
        }
      ]
    },
    {
      "cell_type": "code",
      "source": [
        "model = Sequential()\n",
        "model.add(Dense(12, input_shape=(60,), activation='relu'))\n",
        "model.add(Dense(8, activation='relu'))\n",
        "model.add(Dense(1, activation='sigmoid'))\n",
        "model.compile(loss='binary_crossentropy', optimizer='adam', metrics=['accuracy'])\n",
        "history = model.fit(x_train, y_train, epochs=50, batch_size=10, validation_data=(x_test, y_test))"
      ],
      "metadata": {
        "colab": {
          "base_uri": "https://localhost:8080/"
        },
        "id": "-JgezkbvbnU9",
        "outputId": "0b6efc79-5005-4c10-b7bc-93d6761166d1"
      },
      "execution_count": null,
      "outputs": [
        {
          "output_type": "stream",
          "name": "stdout",
          "text": [
            "Epoch 1/50\n",
            "17/17 [==============================] - 2s 19ms/step - loss: 0.7247 - accuracy: 0.4699 - val_loss: 0.7177 - val_accuracy: 0.4762\n",
            "Epoch 2/50\n",
            "17/17 [==============================] - 0s 6ms/step - loss: 0.6862 - accuracy: 0.5602 - val_loss: 0.6857 - val_accuracy: 0.5714\n",
            "Epoch 3/50\n",
            "17/17 [==============================] - 0s 6ms/step - loss: 0.6799 - accuracy: 0.5542 - val_loss: 0.6724 - val_accuracy: 0.5476\n",
            "Epoch 4/50\n",
            "17/17 [==============================] - 0s 5ms/step - loss: 0.6676 - accuracy: 0.5964 - val_loss: 0.6711 - val_accuracy: 0.5952\n",
            "Epoch 5/50\n",
            "17/17 [==============================] - 0s 5ms/step - loss: 0.6584 - accuracy: 0.6506 - val_loss: 0.6630 - val_accuracy: 0.5714\n",
            "Epoch 6/50\n",
            "17/17 [==============================] - 0s 5ms/step - loss: 0.6486 - accuracy: 0.6506 - val_loss: 0.6460 - val_accuracy: 0.6190\n",
            "Epoch 7/50\n",
            "17/17 [==============================] - 0s 5ms/step - loss: 0.6386 - accuracy: 0.6988 - val_loss: 0.6458 - val_accuracy: 0.5952\n",
            "Epoch 8/50\n",
            "17/17 [==============================] - 0s 8ms/step - loss: 0.6283 - accuracy: 0.7470 - val_loss: 0.6270 - val_accuracy: 0.6190\n",
            "Epoch 9/50\n",
            "17/17 [==============================] - 0s 8ms/step - loss: 0.6181 - accuracy: 0.7410 - val_loss: 0.6226 - val_accuracy: 0.6429\n",
            "Epoch 10/50\n",
            "17/17 [==============================] - 0s 8ms/step - loss: 0.6064 - accuracy: 0.7530 - val_loss: 0.6130 - val_accuracy: 0.6429\n",
            "Epoch 11/50\n",
            "17/17 [==============================] - 0s 8ms/step - loss: 0.5936 - accuracy: 0.7530 - val_loss: 0.6022 - val_accuracy: 0.6667\n",
            "Epoch 12/50\n",
            "17/17 [==============================] - 0s 7ms/step - loss: 0.5865 - accuracy: 0.7892 - val_loss: 0.5862 - val_accuracy: 0.6429\n",
            "Epoch 13/50\n",
            "17/17 [==============================] - 0s 9ms/step - loss: 0.5715 - accuracy: 0.7410 - val_loss: 0.5745 - val_accuracy: 0.6667\n",
            "Epoch 14/50\n",
            "17/17 [==============================] - 0s 8ms/step - loss: 0.5561 - accuracy: 0.7892 - val_loss: 0.5696 - val_accuracy: 0.6905\n",
            "Epoch 15/50\n",
            "17/17 [==============================] - 0s 8ms/step - loss: 0.5432 - accuracy: 0.8193 - val_loss: 0.5647 - val_accuracy: 0.6905\n",
            "Epoch 16/50\n",
            "17/17 [==============================] - 0s 8ms/step - loss: 0.5367 - accuracy: 0.8072 - val_loss: 0.5529 - val_accuracy: 0.6667\n",
            "Epoch 17/50\n",
            "17/17 [==============================] - 0s 8ms/step - loss: 0.5197 - accuracy: 0.8133 - val_loss: 0.5447 - val_accuracy: 0.6667\n",
            "Epoch 18/50\n",
            "17/17 [==============================] - 0s 8ms/step - loss: 0.5102 - accuracy: 0.8313 - val_loss: 0.5318 - val_accuracy: 0.7143\n",
            "Epoch 19/50\n",
            "17/17 [==============================] - 0s 8ms/step - loss: 0.5020 - accuracy: 0.8133 - val_loss: 0.5370 - val_accuracy: 0.7143\n",
            "Epoch 20/50\n",
            "17/17 [==============================] - 0s 9ms/step - loss: 0.4860 - accuracy: 0.8133 - val_loss: 0.5171 - val_accuracy: 0.7619\n",
            "Epoch 21/50\n",
            "17/17 [==============================] - 0s 8ms/step - loss: 0.4748 - accuracy: 0.8193 - val_loss: 0.5200 - val_accuracy: 0.6905\n",
            "Epoch 22/50\n",
            "17/17 [==============================] - 0s 8ms/step - loss: 0.4626 - accuracy: 0.8193 - val_loss: 0.5076 - val_accuracy: 0.7619\n",
            "Epoch 23/50\n",
            "17/17 [==============================] - 0s 8ms/step - loss: 0.4536 - accuracy: 0.8373 - val_loss: 0.5033 - val_accuracy: 0.7381\n",
            "Epoch 24/50\n",
            "17/17 [==============================] - 0s 8ms/step - loss: 0.4518 - accuracy: 0.8133 - val_loss: 0.4974 - val_accuracy: 0.7857\n",
            "Epoch 25/50\n",
            "17/17 [==============================] - 0s 8ms/step - loss: 0.4355 - accuracy: 0.8253 - val_loss: 0.5006 - val_accuracy: 0.6905\n",
            "Epoch 26/50\n",
            "17/17 [==============================] - 0s 8ms/step - loss: 0.4286 - accuracy: 0.8253 - val_loss: 0.4954 - val_accuracy: 0.7143\n",
            "Epoch 27/50\n",
            "17/17 [==============================] - 0s 7ms/step - loss: 0.4201 - accuracy: 0.8313 - val_loss: 0.4960 - val_accuracy: 0.7143\n",
            "Epoch 28/50\n",
            "17/17 [==============================] - 0s 8ms/step - loss: 0.4139 - accuracy: 0.8313 - val_loss: 0.4894 - val_accuracy: 0.7857\n",
            "Epoch 29/50\n",
            "17/17 [==============================] - 0s 8ms/step - loss: 0.4072 - accuracy: 0.8193 - val_loss: 0.4899 - val_accuracy: 0.7857\n",
            "Epoch 30/50\n",
            "17/17 [==============================] - 0s 8ms/step - loss: 0.4001 - accuracy: 0.8072 - val_loss: 0.4963 - val_accuracy: 0.7619\n",
            "Epoch 31/50\n",
            "17/17 [==============================] - 0s 8ms/step - loss: 0.3951 - accuracy: 0.8434 - val_loss: 0.5016 - val_accuracy: 0.7381\n",
            "Epoch 32/50\n",
            "17/17 [==============================] - 0s 8ms/step - loss: 0.3861 - accuracy: 0.8434 - val_loss: 0.4964 - val_accuracy: 0.7619\n",
            "Epoch 33/50\n",
            "17/17 [==============================] - 0s 7ms/step - loss: 0.3795 - accuracy: 0.8434 - val_loss: 0.4933 - val_accuracy: 0.7381\n",
            "Epoch 34/50\n",
            "17/17 [==============================] - 0s 6ms/step - loss: 0.3670 - accuracy: 0.8554 - val_loss: 0.4906 - val_accuracy: 0.7619\n",
            "Epoch 35/50\n",
            "17/17 [==============================] - 0s 6ms/step - loss: 0.3628 - accuracy: 0.8554 - val_loss: 0.4927 - val_accuracy: 0.7619\n",
            "Epoch 36/50\n",
            "17/17 [==============================] - 0s 6ms/step - loss: 0.3607 - accuracy: 0.8434 - val_loss: 0.4889 - val_accuracy: 0.7619\n",
            "Epoch 37/50\n",
            "17/17 [==============================] - 0s 6ms/step - loss: 0.3574 - accuracy: 0.8494 - val_loss: 0.4901 - val_accuracy: 0.7619\n",
            "Epoch 38/50\n",
            "17/17 [==============================] - 0s 5ms/step - loss: 0.3494 - accuracy: 0.8494 - val_loss: 0.4908 - val_accuracy: 0.7619\n",
            "Epoch 39/50\n",
            "17/17 [==============================] - 0s 6ms/step - loss: 0.3436 - accuracy: 0.8434 - val_loss: 0.4907 - val_accuracy: 0.7619\n",
            "Epoch 40/50\n",
            "17/17 [==============================] - 0s 6ms/step - loss: 0.3408 - accuracy: 0.8675 - val_loss: 0.4954 - val_accuracy: 0.7381\n",
            "Epoch 41/50\n",
            "17/17 [==============================] - 0s 6ms/step - loss: 0.3444 - accuracy: 0.8614 - val_loss: 0.4941 - val_accuracy: 0.7381\n",
            "Epoch 42/50\n",
            "17/17 [==============================] - 0s 6ms/step - loss: 0.3401 - accuracy: 0.8434 - val_loss: 0.4925 - val_accuracy: 0.7619\n",
            "Epoch 43/50\n",
            "17/17 [==============================] - 0s 5ms/step - loss: 0.3277 - accuracy: 0.8675 - val_loss: 0.4926 - val_accuracy: 0.7619\n",
            "Epoch 44/50\n",
            "17/17 [==============================] - 0s 6ms/step - loss: 0.3225 - accuracy: 0.8675 - val_loss: 0.4933 - val_accuracy: 0.7619\n",
            "Epoch 45/50\n",
            "17/17 [==============================] - 0s 5ms/step - loss: 0.3204 - accuracy: 0.8494 - val_loss: 0.4949 - val_accuracy: 0.7619\n",
            "Epoch 46/50\n",
            "17/17 [==============================] - 0s 6ms/step - loss: 0.3177 - accuracy: 0.8554 - val_loss: 0.4960 - val_accuracy: 0.7619\n",
            "Epoch 47/50\n",
            "17/17 [==============================] - 0s 6ms/step - loss: 0.3138 - accuracy: 0.8735 - val_loss: 0.4960 - val_accuracy: 0.7619\n",
            "Epoch 48/50\n",
            "17/17 [==============================] - 0s 5ms/step - loss: 0.3128 - accuracy: 0.8614 - val_loss: 0.4951 - val_accuracy: 0.7619\n",
            "Epoch 49/50\n",
            "17/17 [==============================] - 0s 6ms/step - loss: 0.3087 - accuracy: 0.8675 - val_loss: 0.4970 - val_accuracy: 0.7619\n",
            "Epoch 50/50\n",
            "17/17 [==============================] - 0s 6ms/step - loss: 0.3081 - accuracy: 0.8554 - val_loss: 0.4965 - val_accuracy: 0.7619\n"
          ]
        }
      ]
    },
    {
      "cell_type": "code",
      "source": [
        "_, accuracy = model.evaluate(x_test, y_test)\n",
        "print('Accuracy: %.2f' % (accuracy*100))"
      ],
      "metadata": {
        "colab": {
          "base_uri": "https://localhost:8080/"
        },
        "id": "I66ydLttbnYP",
        "outputId": "f52e1eaf-d694-4274-edd8-194e62ac2949"
      },
      "execution_count": null,
      "outputs": [
        {
          "output_type": "stream",
          "name": "stdout",
          "text": [
            "2/2 [==============================] - 0s 7ms/step - loss: 0.4965 - accuracy: 0.7619\n",
            "Accuracy: 76.19\n"
          ]
        }
      ]
    },
    {
      "cell_type": "code",
      "source": [
        "pd.DataFrame(history.history).plot(figsize=(10,8))\n",
        "plt.show()"
      ],
      "metadata": {
        "colab": {
          "base_uri": "https://localhost:8080/",
          "height": 486
        },
        "id": "HfbZEhxygmDq",
        "outputId": "26713c12-2a15-4456-fc66-2058f6ce04aa"
      },
      "execution_count": null,
      "outputs": [
        {
          "output_type": "display_data",
          "data": {
            "text/plain": [
              "<Figure size 720x576 with 1 Axes>"
            ],
            "image/png": "[encoded data removed]"
          },
          "metadata": {
            "needs_background": "light"
          }
        }
      ]
    },
    {
      "cell_type": "code",
      "source": [
        "model1 = Sequential()\n",
        "model1.add(Dense(15, input_shape=(60,), activation='relu'))\n",
        "model1.add(BatchNormalization())\n",
        "model1.add(Dense(10, activation='relu'))\n",
        "model1.add(BatchNormalization())\n",
        "model1.add(Dense(1, activation='sigmoid'))\n",
        "model1.compile(loss='binary_crossentropy', optimizer='adam', metrics=['accuracy'])\n",
        "history1 = model1.fit(x_train, y_train, epochs=50, batch_size=12, validation_data=(x_test, y_test))"
      ],
      "metadata": {
        "colab": {
          "base_uri": "https://localhost:8080/"
        },
        "id": "5MZUP_ZygwDb",
        "outputId": "1a65c912-966f-4280-a350-20f3c68870df"
      },
      "execution_count": null,
      "outputs": [
        {
          "output_type": "stream",
          "name": "stdout",
          "text": [
            "Epoch 1/50\n",
            "14/14 [==============================] - 2s 24ms/step - loss: 0.8008 - accuracy: 0.4940 - val_loss: 0.6859 - val_accuracy: 0.6429\n",
            "Epoch 2/50\n",
            "14/14 [==============================] - 0s 8ms/step - loss: 0.5990 - accuracy: 0.6807 - val_loss: 0.6781 - val_accuracy: 0.6190\n",
            "Epoch 3/50\n",
            "14/14 [==============================] - 0s 7ms/step - loss: 0.5306 - accuracy: 0.7410 - val_loss: 0.6729 - val_accuracy: 0.6190\n",
            "Epoch 4/50\n",
            "14/14 [==============================] - 0s 7ms/step - loss: 0.5114 - accuracy: 0.7590 - val_loss: 0.6669 - val_accuracy: 0.6190\n",
            "Epoch 5/50\n",
            "14/14 [==============================] - 0s 8ms/step - loss: 0.4980 - accuracy: 0.8012 - val_loss: 0.6624 - val_accuracy: 0.6190\n",
            "Epoch 6/50\n",
            "14/14 [==============================] - 0s 7ms/step - loss: 0.4772 - accuracy: 0.7831 - val_loss: 0.6575 - val_accuracy: 0.6190\n",
            "Epoch 7/50\n",
            "14/14 [==============================] - 0s 7ms/step - loss: 0.4345 - accuracy: 0.8133 - val_loss: 0.6486 - val_accuracy: 0.6190\n",
            "Epoch 8/50\n",
            "14/14 [==============================] - 0s 8ms/step - loss: 0.4519 - accuracy: 0.7831 - val_loss: 0.6399 - val_accuracy: 0.6190\n",
            "Epoch 9/50\n",
            "14/14 [==============================] - 0s 8ms/step - loss: 0.4311 - accuracy: 0.8133 - val_loss: 0.6322 - val_accuracy: 0.6190\n",
            "Epoch 10/50\n",
            "14/14 [==============================] - 0s 7ms/step - loss: 0.4095 - accuracy: 0.8434 - val_loss: 0.6180 - val_accuracy: 0.6429\n",
            "Epoch 11/50\n",
            "14/14 [==============================] - 0s 7ms/step - loss: 0.3732 - accuracy: 0.8253 - val_loss: 0.6084 - val_accuracy: 0.6667\n",
            "Epoch 12/50\n",
            "14/14 [==============================] - 0s 7ms/step - loss: 0.3704 - accuracy: 0.8494 - val_loss: 0.6085 - val_accuracy: 0.6905\n",
            "Epoch 13/50\n",
            "14/14 [==============================] - 0s 8ms/step - loss: 0.3528 - accuracy: 0.8373 - val_loss: 0.5947 - val_accuracy: 0.6905\n",
            "Epoch 14/50\n",
            "14/14 [==============================] - 0s 7ms/step - loss: 0.3374 - accuracy: 0.8675 - val_loss: 0.5765 - val_accuracy: 0.6905\n",
            "Epoch 15/50\n",
            "14/14 [==============================] - 0s 8ms/step - loss: 0.3063 - accuracy: 0.8795 - val_loss: 0.5635 - val_accuracy: 0.6905\n",
            "Epoch 16/50\n",
            "14/14 [==============================] - 0s 7ms/step - loss: 0.3319 - accuracy: 0.8554 - val_loss: 0.5518 - val_accuracy: 0.7143\n",
            "Epoch 17/50\n",
            "14/14 [==============================] - 0s 8ms/step - loss: 0.3855 - accuracy: 0.8133 - val_loss: 0.5549 - val_accuracy: 0.7143\n",
            "Epoch 18/50\n",
            "14/14 [==============================] - 0s 8ms/step - loss: 0.3325 - accuracy: 0.8554 - val_loss: 0.5269 - val_accuracy: 0.7857\n",
            "Epoch 19/50\n",
            "14/14 [==============================] - 0s 7ms/step - loss: 0.2912 - accuracy: 0.8614 - val_loss: 0.5176 - val_accuracy: 0.7619\n",
            "Epoch 20/50\n",
            "14/14 [==============================] - 0s 8ms/step - loss: 0.3200 - accuracy: 0.8554 - val_loss: 0.4991 - val_accuracy: 0.7857\n",
            "Epoch 21/50\n",
            "14/14 [==============================] - 0s 7ms/step - loss: 0.3215 - accuracy: 0.8675 - val_loss: 0.4917 - val_accuracy: 0.7619\n",
            "Epoch 22/50\n",
            "14/14 [==============================] - 0s 8ms/step - loss: 0.2601 - accuracy: 0.9217 - val_loss: 0.4905 - val_accuracy: 0.8095\n",
            "Epoch 23/50\n",
            "14/14 [==============================] - 0s 7ms/step - loss: 0.2604 - accuracy: 0.9096 - val_loss: 0.4833 - val_accuracy: 0.7857\n",
            "Epoch 24/50\n",
            "14/14 [==============================] - 0s 7ms/step - loss: 0.2867 - accuracy: 0.8976 - val_loss: 0.4792 - val_accuracy: 0.7381\n",
            "Epoch 25/50\n",
            "14/14 [==============================] - 0s 9ms/step - loss: 0.2982 - accuracy: 0.8916 - val_loss: 0.4737 - val_accuracy: 0.7381\n",
            "Epoch 26/50\n",
            "14/14 [==============================] - 0s 8ms/step - loss: 0.2514 - accuracy: 0.9157 - val_loss: 0.4862 - val_accuracy: 0.7619\n",
            "Epoch 27/50\n",
            "14/14 [==============================] - 0s 9ms/step - loss: 0.2614 - accuracy: 0.8976 - val_loss: 0.4568 - val_accuracy: 0.7619\n",
            "Epoch 28/50\n",
            "14/14 [==============================] - 0s 9ms/step - loss: 0.2443 - accuracy: 0.8855 - val_loss: 0.4322 - val_accuracy: 0.7857\n",
            "Epoch 29/50\n",
            "14/14 [==============================] - 0s 11ms/step - loss: 0.2681 - accuracy: 0.8855 - val_loss: 0.4451 - val_accuracy: 0.7619\n",
            "Epoch 30/50\n",
            "14/14 [==============================] - 0s 10ms/step - loss: 0.2463 - accuracy: 0.9036 - val_loss: 0.4325 - val_accuracy: 0.7381\n",
            "Epoch 31/50\n",
            "14/14 [==============================] - 0s 10ms/step - loss: 0.2453 - accuracy: 0.9217 - val_loss: 0.4397 - val_accuracy: 0.7143\n",
            "Epoch 32/50\n",
            "14/14 [==============================] - 0s 11ms/step - loss: 0.2581 - accuracy: 0.9036 - val_loss: 0.4457 - val_accuracy: 0.7619\n",
            "Epoch 33/50\n",
            "14/14 [==============================] - 0s 10ms/step - loss: 0.2539 - accuracy: 0.8795 - val_loss: 0.4273 - val_accuracy: 0.7619\n",
            "Epoch 34/50\n",
            "14/14 [==============================] - 0s 12ms/step - loss: 0.2098 - accuracy: 0.9277 - val_loss: 0.4436 - val_accuracy: 0.7381\n",
            "Epoch 35/50\n",
            "14/14 [==============================] - 0s 11ms/step - loss: 0.2877 - accuracy: 0.8795 - val_loss: 0.4333 - val_accuracy: 0.8095\n",
            "Epoch 36/50\n",
            "14/14 [==============================] - 0s 10ms/step - loss: 0.2921 - accuracy: 0.8675 - val_loss: 0.4429 - val_accuracy: 0.8095\n",
            "Epoch 37/50\n",
            "14/14 [==============================] - 0s 10ms/step - loss: 0.2916 - accuracy: 0.8373 - val_loss: 0.4295 - val_accuracy: 0.7619\n",
            "Epoch 38/50\n",
            "14/14 [==============================] - 0s 11ms/step - loss: 0.2561 - accuracy: 0.9036 - val_loss: 0.4317 - val_accuracy: 0.7619\n",
            "Epoch 39/50\n",
            "14/14 [==============================] - 0s 10ms/step - loss: 0.2057 - accuracy: 0.9277 - val_loss: 0.4233 - val_accuracy: 0.7619\n",
            "Epoch 40/50\n",
            "14/14 [==============================] - 0s 10ms/step - loss: 0.2163 - accuracy: 0.9277 - val_loss: 0.4272 - val_accuracy: 0.7857\n",
            "Epoch 41/50\n",
            "14/14 [==============================] - 0s 10ms/step - loss: 0.2278 - accuracy: 0.9337 - val_loss: 0.4369 - val_accuracy: 0.7381\n",
            "Epoch 42/50\n",
            "14/14 [==============================] - 0s 11ms/step - loss: 0.2737 - accuracy: 0.8675 - val_loss: 0.4631 - val_accuracy: 0.7381\n",
            "Epoch 43/50\n",
            "14/14 [==============================] - 0s 10ms/step - loss: 0.2206 - accuracy: 0.9337 - val_loss: 0.4702 - val_accuracy: 0.7381\n",
            "Epoch 44/50\n",
            "14/14 [==============================] - 0s 10ms/step - loss: 0.3512 - accuracy: 0.8735 - val_loss: 0.4526 - val_accuracy: 0.7619\n",
            "Epoch 45/50\n",
            "14/14 [==============================] - 0s 10ms/step - loss: 0.2225 - accuracy: 0.9096 - val_loss: 0.4610 - val_accuracy: 0.7619\n",
            "Epoch 46/50\n",
            "14/14 [==============================] - 0s 10ms/step - loss: 0.2384 - accuracy: 0.8916 - val_loss: 0.4597 - val_accuracy: 0.7857\n",
            "Epoch 47/50\n",
            "14/14 [==============================] - 0s 10ms/step - loss: 0.1899 - accuracy: 0.9398 - val_loss: 0.4456 - val_accuracy: 0.7857\n",
            "Epoch 48/50\n",
            "14/14 [==============================] - 0s 11ms/step - loss: 0.2453 - accuracy: 0.8795 - val_loss: 0.4496 - val_accuracy: 0.7857\n",
            "Epoch 49/50\n",
            "14/14 [==============================] - 0s 11ms/step - loss: 0.2194 - accuracy: 0.9217 - val_loss: 0.4624 - val_accuracy: 0.7857\n",
            "Epoch 50/50\n",
            "14/14 [==============================] - 0s 10ms/step - loss: 0.2233 - accuracy: 0.9096 - val_loss: 0.4840 - val_accuracy: 0.7857\n"
          ]
        }
      ]
    },
    {
      "cell_type": "code",
      "source": [
        "_, accuracy = model1.evaluate(x_test, y_test)\n",
        "print('Accuracy: %.2f' % (accuracy*100))"
      ],
      "metadata": {
        "colab": {
          "base_uri": "https://localhost:8080/"
        },
        "id": "sjBTp90AhKGo",
        "outputId": "48a4a77d-adc3-4d76-969a-56cacbbbadc1"
      },
      "execution_count": null,
      "outputs": [
        {
          "output_type": "stream",
          "name": "stdout",
          "text": [
            "2/2 [==============================] - 0s 8ms/step - loss: 0.4840 - accuracy: 0.7857\n",
            "Accuracy: 78.57\n"
          ]
        }
      ]
    },
    {
      "cell_type": "code",
      "source": [
        "pd.DataFrame(history1.history).plot(figsize=(10,8))\n",
        "plt.show()"
      ],
      "metadata": {
        "colab": {
          "base_uri": "https://localhost:8080/",
          "height": 483
        },
        "id": "aVW4P0cuhspL",
        "outputId": "79fd1147-0a57-4428-f2b6-e9e87728325e"
      },
      "execution_count": null,
      "outputs": [
        {
          "output_type": "display_data",
          "data": {
            "text/plain": [
              "<Figure size 720x576 with 1 Axes>"
            ],
            "image/png": "[encoded data removed]"
          },
          "metadata": {
            "needs_background": "light"
          }
        }
      ]
    },
    {
      "cell_type": "code",
      "source": [],
      "metadata": {
        "id": "lktjp9ajhv6T"
      },
      "execution_count": null,
      "outputs": []
    },
    {
      "cell_type": "code",
      "source": [],
      "metadata": {
        "id": "UenaqYbGh3f9"
      },
      "execution_count": null,
      "outputs": []
    }
  ]
}